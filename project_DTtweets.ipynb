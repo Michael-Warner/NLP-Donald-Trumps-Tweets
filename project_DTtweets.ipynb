{
 "cells": [
  {
   "cell_type": "markdown",
   "metadata": {},
   "source": [
    "# Natual Language Processing - \n",
    "## Donald Trump's Tweets from 2009 to 2020 with PySpark\n",
    "### Group member :\n",
    "Michael WARNER  \n",
    "Suet Wah CHU   \n",
    "Jing Fei XU   \n",
    "\n",
    "### Table of Content :\n",
    "1) Executive Summary\n",
    "\n",
    "2) Overall Analysis  \n",
    "   - Top hashtags (#)  \n",
    "   - Top references (@)  \n",
    "   - Sentiment Analysis  \n",
    "   - Hot topics    \n",
    "\n",
    "3) Original Tweet Analysis \n",
    "   - Top hashtags (#)\n",
    "   - Top references (@)\n",
    "   - Sentiment Analysis\n",
    "   - Hot topics  \n",
    "   \n",
    "4) Retweet Analysis \n",
    "   - Top hashtags (#)\n",
    "   - Top references (@)\n",
    "   - Sentiment Analysis\n",
    "   - Hot topics  \n",
    "   \n",
    "5) Tweet Analysis by Year\n",
    "   - Hot topics  \n",
    "   \n",
    "6) Conclusion\n"
   ]
  },
  {
   "cell_type": "markdown",
   "metadata": {},
   "source": [
    "## 1) Executive Summary\n",
    "\n",
    "### Purpose : \n",
    "Donald Trump's use of Twitter has been a controversial topic for years and it draws lots of attention as people try to get a deeper understanding and do interpretation on his tweets. Sometimes his tweets are a good indicator of the political and current trend with the first-hand data source from him. In this study, the sentiment and hot topics of Donald Trump’s tweets will be analyzed for the period of 2009 to November 2020.\n",
    "\n",
    "### Methods of Analysis:\n",
    "This study will explore the sentiment of the tweets by looking at the occurrence of both positive and negative words. The hot topics will be broken down in 2 aspects: by original tweets and retweets, by years.\n",
    "\n",
    "\n",
    "\n",
    "### Findings:\n",
    "Donald Trump started to be **active** on Twitter since **2012** with a dramatic increase in tweets. His tweets keep increasing to a **peak** in **2020** with over 11,000 tweets. The number of original tweets are almost **5 times** of retweets.   \n",
    "In terms of hot topics, he had **more diversified** topics, from personal life to politics, between 2012 and 2015 whereas he **focused on political** topics after 2015.  \n",
    "\n",
    "\n",
    "For original tweets and retweets, the hot topics over 12 years are basically the same except **retweets** cover the **impeachment** of himself in details. Same phenomenon is found for the negative words he used that **more negative word**s related to **impeachment** are used for **retweets**. About **positive words**, Donald Trump shows more **frequent appreciation** to other in **retweets** than in his original tweets.  \n",
    "\n",
    "Regarding to **hashtags**, Donald trump tags **current affairs (including COVID-19)** instead of his presidential election in his **retweets**. Moreover, the **references** of his **retweets** are either **Republican** or government officials or his relatives whereas his **original** tweet references are **more diversified**.\n",
    "\n",
    "\n",
    "Overall, Donald Trump’s tweets are positive with the **positive sentiment score** calculated for both original tweets and retweets.\n",
    "\n",
    "### Further Study :\n",
    "Since **different references and hashtags** have been used for original tweets and retweets, it would be interesting to investigate the relationship between the hashtags and references, the topics and the references(i.e. the referenced person and the topics). Due to limited time, these relationship could be inclued in the future studies."
   ]
  },
  {
   "cell_type": "markdown",
   "metadata": {},
   "source": [
    "## 2) Overall Analysis\n"
   ]
  },
  {
   "cell_type": "markdown",
   "metadata": {},
   "source": [
    "### Pre-process the data"
   ]
  },
  {
   "cell_type": "code",
   "execution_count": 1,
   "metadata": {},
   "outputs": [],
   "source": [
    "## Import PySpark and build a connection between the Spark Cluster and the running application\n",
    "import pyspark\n",
    "sc = pyspark.SparkContext(appName=\"Spark Donald Trump Communication Analysis on Twitter\")"
   ]
  },
  {
   "cell_type": "code",
   "execution_count": 2,
   "metadata": {},
   "outputs": [
    {
     "data": {
      "text/plain": [
       "['Republicans and Democrats have both created our economic problems.;02/08/2011 18:07:48',\n",
       " 'I was thrilled to be back in the Great city of Charlotte, North Carolina with thousands of hardworking American Patriots who love our Country, cherish our values, respect our laws, and always put AMERICA FIRST! Thank you for a wonderful evening!! #KAG2020 https://t.co/dNJZfRsl9y;03/03/2020 01:34:50',\n",
       " 'RT @CBS_Herridge: READ: Letter to surveillance court obtained by CBS News questions where there will be further disciplinary action and cho…;17/01/2020 03:22:47',\n",
       " 'The Unsolicited Mail In Ballot Scam is a major threat to our Democracy, &amp  the Democrats know it. Almost all recent elections using this system, even though much smaller &amp   with far fewer Ballots to count, have ended up being a disaster. Large numbers of missing Ballots &amp  Fraud!;12/09/2020 20:10:58',\n",
       " \"RT @MZHemingway: Very friendly telling of events here about Comey's apparent leaking to compliant media. If you read those articles and tho…;17/01/2020 13:13:59\",\n",
       " 'RT @WhiteHouse: President @realDonaldTrump announced historic steps to protect the Constitutional right to pray in public schools! https://…;17/01/2020 00:11:56',\n",
       " '“I’m running as a proud Democrat, for the Senate”. Sleepy Joe Biden today. It’s only going to get worse. It is not sustainable for our County - China will own us!!!!;12/10/2020 22:22:39',\n",
       " 'Getting a little exercise this morning! https://t.co/fyAAcbhbgk;01/02/2020 16:14:02',\n",
       " 'https://t.co/4qwCKQOiOw;23/10/2020 04:52:14',\n",
       " 'https://t.co/VlEu8yyovv;23/10/2020 04:46:53']"
      ]
     },
     "execution_count": 2,
     "metadata": {},
     "output_type": "execute_result"
    }
   ],
   "source": [
    "## first read the trump_tweets.txt file into the RDD rdd_tweets\n",
    "\n",
    "rdd_tweets = sc.textFile('trump_tweets.txt')\n",
    "\n",
    "# print a sample of 10 lines of rdd_tweets\n",
    "\n",
    "rdd_tweets.take(10)"
   ]
  },
  {
   "cell_type": "code",
   "execution_count": 3,
   "metadata": {},
   "outputs": [],
   "source": [
    "## Split each tweet into a list of string (1)\n",
    "\n",
    "# Import Regular Expressions library\n",
    "import re\n",
    "\n",
    "# Define a function to split the tweets into a word list\n",
    "def split_with_multiple_separator(string_value): \n",
    "     return re.compile(r'(?<!\\d{2}):|(?<!\\w)\\.(?!\\w)|,| |\\[|\\]|;|\\\"|!|--|–|“|(?=\\.\\s)|(?=\\.;)')\\\n",
    "                     .split(string_value.strip())\n",
    "                    # Negative lookahead assertion : '(?<!\\d{2}):' for time (hh:mm:ss) ;\n",
    "                    #                            '(?<!\\w)\\.(?!\\w)' for specific word with '.' in bewtween (e.g. U.S.)\n",
    "                    # Positive lookahead assertion : '(?=\\.\\s)' for full stop followed by whitespace\n",
    "                    #                                '(?=\\.;)' for full stop followed by a colon(:)\n",
    "                    # Other will be splited by , or [ or ] or ; or \"or ! or -- or – or “\n",
    "                        "
   ]
  },
  {
   "cell_type": "code",
   "execution_count": 4,
   "metadata": {},
   "outputs": [
    {
     "data": {
      "text/plain": [
       "['Republicans',\n",
       " 'and',\n",
       " 'Democrats',\n",
       " 'have',\n",
       " 'both',\n",
       " 'created',\n",
       " 'our',\n",
       " 'economic',\n",
       " 'problems',\n",
       " '02/08/2011',\n",
       " '18:07:48',\n",
       " 'I',\n",
       " 'was',\n",
       " 'thrilled',\n",
       " 'to',\n",
       " 'be',\n",
       " 'back',\n",
       " 'in',\n",
       " 'the',\n",
       " 'Great',\n",
       " 'city',\n",
       " 'of',\n",
       " 'Charlotte',\n",
       " 'North',\n",
       " 'Carolina',\n",
       " 'with',\n",
       " 'thousands',\n",
       " 'of',\n",
       " 'hardworking',\n",
       " 'American',\n",
       " 'Patriots',\n",
       " 'who',\n",
       " 'love',\n",
       " 'our',\n",
       " 'Country',\n",
       " 'cherish',\n",
       " 'our',\n",
       " 'values',\n",
       " 'respect',\n",
       " 'our',\n",
       " 'laws',\n",
       " 'and',\n",
       " 'always',\n",
       " 'put',\n",
       " 'AMERICA',\n",
       " 'FIRST',\n",
       " 'Thank',\n",
       " 'you',\n",
       " 'for',\n",
       " 'a',\n",
       " 'wonderful',\n",
       " 'evening',\n",
       " '#KAG2020',\n",
       " 'https',\n",
       " '//t.co/dNJZfRsl9y',\n",
       " '03/03/2020',\n",
       " '01:34:50',\n",
       " 'RT',\n",
       " '@CBS_Herridge',\n",
       " 'READ']"
      ]
     },
     "execution_count": 4,
     "metadata": {},
     "output_type": "execute_result"
    }
   ],
   "source": [
    "## Split each tweet into a list of string (2)\n",
    "\n",
    "# Split the tweets into a word list and filter the punctuation\n",
    "rdd_tweets_words = rdd_tweets.flatMap(split_with_multiple_separator).filter(lambda word: word!='' and word!='”' and word!='.')\n",
    "rdd_tweets_words.take(60)"
   ]
  },
  {
   "cell_type": "code",
   "execution_count": 5,
   "metadata": {},
   "outputs": [],
   "source": [
    "## Delete the 'http://' contents (1)\n",
    "\n",
    "#Create a function to delete \"https\"\n",
    "delsite = [\"https\",\"//\",\"http\"]\n",
    "def delhttps(line):\n",
    "    for i in delsite:\n",
    "        if i in line:\n",
    "            return 1\n",
    "    return 0\n"
   ]
  },
  {
   "cell_type": "code",
   "execution_count": 6,
   "metadata": {},
   "outputs": [
    {
     "data": {
      "text/plain": [
       "['Republicans',\n",
       " 'and',\n",
       " 'Democrats',\n",
       " 'have',\n",
       " 'both',\n",
       " 'created',\n",
       " 'our',\n",
       " 'economic',\n",
       " 'problems',\n",
       " '02/08/2011',\n",
       " '18:07:48',\n",
       " 'I',\n",
       " 'was',\n",
       " 'thrilled',\n",
       " 'to',\n",
       " 'be',\n",
       " 'back',\n",
       " 'in',\n",
       " 'the',\n",
       " 'Great',\n",
       " 'city',\n",
       " 'of',\n",
       " 'Charlotte',\n",
       " 'North',\n",
       " 'Carolina',\n",
       " 'with',\n",
       " 'thousands',\n",
       " 'of',\n",
       " 'hardworking',\n",
       " 'American',\n",
       " 'Patriots',\n",
       " 'who',\n",
       " 'love',\n",
       " 'our',\n",
       " 'Country',\n",
       " 'cherish',\n",
       " 'our',\n",
       " 'values',\n",
       " 'respect',\n",
       " 'our',\n",
       " 'laws',\n",
       " 'and',\n",
       " 'always',\n",
       " 'put',\n",
       " 'AMERICA',\n",
       " 'FIRST',\n",
       " 'Thank',\n",
       " 'you',\n",
       " 'for',\n",
       " 'a',\n",
       " 'wonderful',\n",
       " 'evening',\n",
       " '#KAG2020',\n",
       " '03/03/2020',\n",
       " '01:34:50',\n",
       " 'RT',\n",
       " '@CBS_Herridge',\n",
       " 'READ',\n",
       " 'Letter',\n",
       " 'to']"
      ]
     },
     "execution_count": 6,
     "metadata": {},
     "output_type": "execute_result"
    }
   ],
   "source": [
    "## Delete the 'http://' contents (2)\n",
    "\n",
    "rdd_tweets_words_noweb = rdd_tweets_words.filter(lambda line: delhttps(line) != 1)\n",
    "rdd_tweets_words_noweb.take(60)"
   ]
  },
  {
   "cell_type": "code",
   "execution_count": 7,
   "metadata": {},
   "outputs": [
    {
     "data": {
      "text/plain": [
       "['republicans',\n",
       " 'and',\n",
       " 'democrats',\n",
       " 'have',\n",
       " 'both',\n",
       " 'created',\n",
       " 'our',\n",
       " 'economic',\n",
       " 'problems',\n",
       " '02/08/2011']"
      ]
     },
     "execution_count": 7,
     "metadata": {},
     "output_type": "execute_result"
    }
   ],
   "source": [
    "#transform all the words into lowercase\n",
    "rdd_tweets_words_lower = rdd_tweets_words_noweb.flatMap(lambda word:word.lower().split())\n",
    "rdd_tweets_words_lower.take(10)"
   ]
  },
  {
   "cell_type": "markdown",
   "metadata": {},
   "source": [
    "### Overall Analysis - Total Number of Tweets"
   ]
  },
  {
   "cell_type": "code",
   "execution_count": 8,
   "metadata": {},
   "outputs": [
    {
     "name": "stdout",
     "output_type": "stream",
     "text": [
      "There are 58681 tweets in total from 2009 to 2020.\n"
     ]
    }
   ],
   "source": [
    "print (f'There are {rdd_tweets.count()} tweets in total from 2009 to 2020.') "
   ]
  },
  {
   "cell_type": "markdown",
   "metadata": {},
   "source": [
    "### Overall Analysis - Top Hashtags (#)\n",
    "  \n",
    "\n",
    "In general, the most frequently used hashtags are mainly about **2016 U.S. President Election** : \n",
    "1) **#Trump2016**  - a tag for presidential candidate Donald Trump in 2016  \n",
    "2) **#Trump2016https** - same tag as above with the mistake of connecting the http together   \n",
    "                    (i.e. no white space between the tag and the website link, refer to :https://twitter.com/hashtag/trump2016https)  \n",
    "\n",
    "3) **#MAGA** - 'Make America Great Again' , the 2016 campaign slogan for presidential candidate Donald Trump    \n",
    "4) **#MakeAmericaGreatAgain** - same as above  \n",
    "5) **#AmericaFirst** - the major and overriding theme\" of his administration during the 2016 election and                    the theme of Trump's inaugural address to his presidency  \n",
    "\n",
    "Another hot topic is **Celebrity Apprentice** which is an American television reality competition series hosted by Donald Trump before his presidency ( for 2008-2015) with the following tags:  \n",
    "1) **#CelebApprentice**  \n",
    "2) **#CelebrityApprentice**  \n",
    "\n",
    "His book ***Time to Get Tough: Making America #1 Again*** (original book title) or **Time to Get Tough: Make America Great Again!** (new book title) is frequently mentioned with the following tags:  \n",
    "1) **#TimeToGetTough**  - title of Donald Trump's book   \n",
    "2) **#1** - part of the original book title  "
   ]
  },
  {
   "cell_type": "code",
   "execution_count": 9,
   "metadata": {},
   "outputs": [
    {
     "data": {
      "text/plain": [
       "[('#KAG2020', 1),\n",
       " ('#MAGA', 1),\n",
       " ('#VOTE', 1),\n",
       " ('#MAGA🇺🇸🦅rally', 1),\n",
       " ('#VOTE', 1),\n",
       " ('#2A', 1),\n",
       " ('#VOTE', 1),\n",
       " ('#MAGA', 1),\n",
       " ('#VoteEarlyDay', 1),\n",
       " ('#MAGA🇺🇸', 1)]"
      ]
     },
     "execution_count": 9,
     "metadata": {},
     "output_type": "execute_result"
    }
   ],
   "source": [
    "## Split each tweet into words (keeping @ and #)\n",
    "words = rdd_tweets.flatMap(lambda word:re.split(',| |\\[|\\]|,|:|;|\\.|\\\"', word.strip())).flatMap(lambda line: line.split(\" \"))\n",
    "\n",
    "## Filter the words to get only hashtags\n",
    "hashtags = words.filter(lambda w: '#' in w)\n",
    "\n",
    "# Filter the words to get only hashtags, then map each hashtag to be a pair of (hashtag,1)\n",
    "hashtags_tuple = hashtags.map(lambda x: (x, 1))\n",
    "hashtags_tuple.take(10)"
   ]
  },
  {
   "cell_type": "code",
   "execution_count": 10,
   "metadata": {},
   "outputs": [
    {
     "data": {
      "text/plain": [
       "[('#Trump2016', 695),\n",
       " ('#MAGA', 436),\n",
       " ('#MakeAmericaGreatAgain', 392),\n",
       " ('#CelebApprentice', 283),\n",
       " ('#1', 136),\n",
       " ('#CelebrityApprentice', 131),\n",
       " ('#TimeToGetTough', 95),\n",
       " ('#AmericaFirst', 76),\n",
       " ('#Trump', 74),\n",
       " ('#Trump2016https', 66)]"
      ]
     },
     "execution_count": 10,
     "metadata": {},
     "output_type": "execute_result"
    }
   ],
   "source": [
    "## Top 10 Hashtags (#)\n",
    "\n",
    "hashtags_count = hashtags_tuple.reduceByKey(lambda x,y : x+y).sortBy(lambda tuple: tuple[1], ascending=False)\n",
    "hashtags_count.take(10)"
   ]
  },
  {
   "cell_type": "markdown",
   "metadata": {},
   "source": [
    "### Overall Analysis - Top References (@)\n",
    "\n",
    "#### The references Donald Trump has been using can be categorized as :\n",
    "##### 1) Himself, Republicans, his team  and political figures\n",
    "- @realDonaldTrump - The offical Twitter account of President Trump  \n",
    "- @TeamTrump   - The official Twitter account for the Trump Campaign (both 2016 and 2020)  \n",
    "- @IvankaTrump - Donald Trump's daughter, serving as Advisor to the President Trump since 2017  \n",
    "- @WhiteHouse  - The official Twitter account of US government   \n",
    "- @seanhannity - Sean Patrick Hannity is a Republican talk show host and conservative political commentator; an early supporter of Donald Trump in the 2016 presidential election \n",
    "- @BarackObama - Member of the Democratic Party, the 44th president of the United States from 2009 to 2017\n",
    "\n",
    "##### 2) News source / Media  \n",
    "- @FoxNews       - Conservative(Leans Right) News\n",
    "- @foxandfriends - The weekday morning news show of Fox News Channel\n",
    "- @CNN           - Liberal(Leans Left ) News\n",
    "    \n",
    "##### 3) TV Show\n",
    "- @ApprenticeNBC - Celebrity Apprentice, an American television reality competition series hosted by Donald Trump before his presidency (for 2008-2015) "
   ]
  },
  {
   "cell_type": "code",
   "execution_count": 11,
   "metadata": {},
   "outputs": [
    {
     "data": {
      "text/plain": [
       "[('@CBS_Herridge', 1),\n",
       " ('@MZHemingway', 1),\n",
       " ('@WhiteHouse', 1),\n",
       " ('@realDonaldTrump', 1),\n",
       " ('@EricTrump', 1),\n",
       " ('@GOPChairwoman', 1),\n",
       " ('@realDonaldTrump', 1),\n",
       " ('@TomFitton', 1),\n",
       " ('@RealDonaldTrump', 1),\n",
       " ('@marklevinshow', 1)]"
      ]
     },
     "execution_count": 11,
     "metadata": {},
     "output_type": "execute_result"
    }
   ],
   "source": [
    "## Filter the words to get only references\n",
    "references = words.filter(lambda w: '@' in w)\n",
    "\n",
    "# Map each reference to be a pair of (reference,1)\n",
    "references_tuple = references.map(lambda x: (x, 1))\n",
    "references_tuple.take(10)"
   ]
  },
  {
   "cell_type": "code",
   "execution_count": 12,
   "metadata": {},
   "outputs": [
    {
     "data": {
      "text/plain": [
       "[('@realDonaldTrump', 10486),\n",
       " ('@FoxNews', 876),\n",
       " ('@WhiteHouse', 793),\n",
       " ('@foxandfriends', 690),\n",
       " ('@BarackObama', 563),\n",
       " ('@CNN', 377),\n",
       " ('@ApprenticeNBC', 364),\n",
       " ('@TeamTrump', 294),\n",
       " ('@IvankaTrump', 288),\n",
       " ('@seanhannity', 266)]"
      ]
     },
     "execution_count": 12,
     "metadata": {},
     "output_type": "execute_result"
    }
   ],
   "source": [
    "## Top 10 references (@)\n",
    "\n",
    "references_count = references_tuple.reduceByKey(lambda x,y : x+y).sortBy(lambda tuple: tuple[1], ascending=False)\n",
    "references_count.take(10)"
   ]
  },
  {
   "cell_type": "markdown",
   "metadata": {},
   "source": [
    "### Overall Analysis - Sentiment Analysis\n",
    "### Top Positive Words\n"
   ]
  },
  {
   "cell_type": "code",
   "execution_count": 13,
   "metadata": {},
   "outputs": [
    {
     "data": {
      "text/plain": [
       "[('republicans', 1),\n",
       " ('and', 1),\n",
       " ('democrats', 1),\n",
       " ('have', 1),\n",
       " ('both', 1),\n",
       " ('created', 1),\n",
       " ('our', 1),\n",
       " ('economic', 1),\n",
       " ('problems', 1),\n",
       " ('02/08/2011', 1)]"
      ]
     },
     "execution_count": 13,
     "metadata": {},
     "output_type": "execute_result"
    }
   ],
   "source": [
    "## Initialize an rdd with key/value for counting each word in the cleaned RDD \n",
    "\n",
    "# Add the count to the word as a tuple\n",
    "rdd_tweets_words_kv = rdd_tweets_words_lower.map(lambda word: (word, 1))\n",
    "\n",
    "rdd_tweets_words_kv.take(10)"
   ]
  },
  {
   "cell_type": "code",
   "execution_count": 14,
   "metadata": {},
   "outputs": [
    {
     "data": {
      "text/plain": [
       "[('a+', 1), ('abound', 1), ('abounds', 1), ('abundance', 1), ('abundant', 1)]"
      ]
     },
     "execution_count": 14,
     "metadata": {},
     "output_type": "execute_result"
    }
   ],
   "source": [
    "## Read the positive words file\n",
    "\n",
    "rdd_positive_words = sc.textFile('positive-words.txt')\n",
    "\n",
    "# Initialize an rdd with key/value for counting each positive word in the file \n",
    "\n",
    "rdd_positive_words_kv = rdd_positive_words.map(lambda word: (word, 1))\n",
    "\n",
    "rdd_positive_words_kv.take(5)"
   ]
  },
  {
   "cell_type": "code",
   "execution_count": 15,
   "metadata": {},
   "outputs": [
    {
     "data": {
      "text/plain": [
       "[('thrilled', 51),\n",
       " ('wonderful', 482),\n",
       " ('right', 897),\n",
       " ('sustainable', 3),\n",
       " ('best', 1236)]"
      ]
     },
     "execution_count": 15,
     "metadata": {},
     "output_type": "execute_result"
    }
   ],
   "source": [
    "## Join the cleaned word list with the positive word list\n",
    "# Use the mapValues transformation to assign a default count of 1 for each positive word\n",
    "\n",
    "rdd_positive_words_tweets_kv = rdd_tweets_words_kv.join(rdd_positive_words_kv).mapValues(lambda tuple: 1)\n",
    "\n",
    "## Count the number of occurences of each positive word in tweets\n",
    "\n",
    "rdd_positive_words_tweets_count_kv = rdd_positive_words_tweets_kv.reduceByKey(lambda x,y : x+y)\n",
    "\n",
    "rdd_positive_words_tweets_count_kv.take(5)"
   ]
  },
  {
   "cell_type": "code",
   "execution_count": 23,
   "metadata": {},
   "outputs": [
    {
     "data": {
      "text/plain": [
       "[('great', 7413),\n",
       " ('trump', 5898),\n",
       " ('thank', 3516),\n",
       " ('like', 1992),\n",
       " ('thanks', 1875),\n",
       " ('good', 1810),\n",
       " ('best', 1236),\n",
       " ('love', 1151),\n",
       " ('win', 1071),\n",
       " ('work', 983),\n",
       " ('true', 943),\n",
       " ('right', 897),\n",
       " ('better', 840),\n",
       " ('well', 733),\n",
       " ('strong', 725),\n",
       " ('real', 672),\n",
       " ('support', 661),\n",
       " ('amazing', 643),\n",
       " ('congratulations', 598),\n",
       " ('happy', 579),\n",
       " ('nice', 563),\n",
       " ('honor', 499),\n",
       " ('wow', 497),\n",
       " ('wonderful', 482),\n",
       " ('endorsement', 460)]"
      ]
     },
     "execution_count": 23,
     "metadata": {},
     "output_type": "execute_result"
    }
   ],
   "source": [
    "## Top 25 Positive Words\n",
    "\n",
    "rdd_positive_words_tweets_count_kv_ordered = rdd_positive_words_tweets_count_kv.sortBy(lambda tuple: tuple[1], ascending=False)\n",
    "\n",
    "list_top_positives_opinion = rdd_positive_words_tweets_count_kv_ordered.take(25)\n",
    "list_top_positives_opinion"
   ]
  },
  {
   "cell_type": "markdown",
   "metadata": {},
   "source": [
    "### Top Negative Words"
   ]
  },
  {
   "cell_type": "code",
   "execution_count": 17,
   "metadata": {},
   "outputs": [
    {
     "data": {
      "text/plain": [
       "[('2-faced', 1),\n",
       " ('2-faces', 1),\n",
       " ('abnormal', 1),\n",
       " ('abolish', 1),\n",
       " ('abominable', 1)]"
      ]
     },
     "execution_count": 17,
     "metadata": {},
     "output_type": "execute_result"
    }
   ],
   "source": [
    "## Read the positive words file\n",
    "\n",
    "rdd_negative_words = sc.textFile('negative-words.txt')\n",
    "\n",
    "# initialize an rdd with key/value for counting each negative word in the file \n",
    "\n",
    "rdd_negative_words_kv = rdd_negative_words.map(lambda word: (word, 1))\n",
    "\n",
    "rdd_negative_words_kv.take(5)"
   ]
  },
  {
   "cell_type": "code",
   "execution_count": 18,
   "metadata": {},
   "outputs": [
    {
     "data": {
      "text/plain": [
       "[('threat', 1), ('threat', 1), ('threat', 1), ('threat', 1), ('threat', 1)]"
      ]
     },
     "execution_count": 18,
     "metadata": {},
     "output_type": "execute_result"
    }
   ],
   "source": [
    "## Join the cleaned word list with the negative word list\n",
    "# Use the mapValues transformation to assign a default count of 1 for each negative word\n",
    "\n",
    "rdd_negative_words_tweets_kv = rdd_tweets_words_kv.join(rdd_negative_words_kv).mapValues(lambda tuple:1)\n",
    "\n",
    "rdd_negative_words_tweets_kv.take(5)"
   ]
  },
  {
   "cell_type": "code",
   "execution_count": 19,
   "metadata": {},
   "outputs": [
    {
     "data": {
      "text/plain": [
       "[('threat', 84),\n",
       " ('disaster', 298),\n",
       " ('fraud', 196),\n",
       " ('worse', 231),\n",
       " ('dishonest', 205)]"
      ]
     },
     "execution_count": 19,
     "metadata": {},
     "output_type": "execute_result"
    }
   ],
   "source": [
    "## Count the number of occurences of each negative word in tweets\n",
    "\n",
    "rdd_negative_words_tweets_count_kv = rdd_negative_words_tweets_kv.reduceByKey(lambda x,y: x+y)\n",
    "\n",
    "rdd_negative_words_tweets_count_kv.take(5)"
   ]
  },
  {
   "cell_type": "code",
   "execution_count": 24,
   "metadata": {},
   "outputs": [
    {
     "data": {
      "text/plain": [
       "[('fake', 1210),\n",
       " ('bad', 987),\n",
       " ('hard', 746),\n",
       " ('crime', 541),\n",
       " ('crooked', 445),\n",
       " ('wrong', 435),\n",
       " ('illegal', 414),\n",
       " ('radical', 385),\n",
       " ('terrible', 378),\n",
       " ('lost', 363),\n",
       " ('corrupt', 351),\n",
       " ('sad', 330),\n",
       " ('collusion', 330),\n",
       " ('disaster', 298),\n",
       " ('crazy', 288),\n",
       " ('problem', 286),\n",
       " ('hoax', 283),\n",
       " ('attack', 276),\n",
       " ('miss', 276),\n",
       " ('failed', 267),\n",
       " ('badly', 256),\n",
       " ('failing', 254),\n",
       " ('worst', 253),\n",
       " ('weak', 233),\n",
       " ('worse', 231)]"
      ]
     },
     "execution_count": 24,
     "metadata": {},
     "output_type": "execute_result"
    }
   ],
   "source": [
    "## Top 25 Negative Words\n",
    "\n",
    "rdd_negative_words_tweets_count_kv_ordered = rdd_negative_words_tweets_count_kv.sortBy(lambda tuple: tuple[1], ascending=False)\n",
    "\n",
    "list_top_negatives_opinion = rdd_negative_words_tweets_count_kv_ordered.take(25)\n",
    "\n",
    "list_top_negatives_opinion"
   ]
  },
  {
   "cell_type": "code",
   "execution_count": 21,
   "metadata": {},
   "outputs": [],
   "source": [
    "## Create a function for plotting a bar chart presenting top positives and top negatives words\n",
    "\n",
    "\n",
    "from matplotlib import pyplot as plt\n",
    "import seaborn as sb\n",
    "\n",
    "import pandas as pd\n",
    "\n",
    "def plot_opinion(list_positives, list_negatives):\n",
    "    \n",
    "    list_1 = [(t[0], t[1], 'positive') for t in list_positives]\n",
    "    list_2 = [(t[0], t[1], 'negative') for t in list_negatives]\n",
    "    \n",
    "     \n",
    "    list_1.extend(list_2)\n",
    "    \n",
    "    \n",
    "    pd_df = pd.DataFrame({\n",
    "     'Opinion': [ t[0] for t in list_1 ], # column for words\n",
    "     'Count': [ t[1] for t in list_1 ],   # column for no. of count\n",
    "     'polarity': [ t[2] for t in list_1 ] # column for the polarity of the word, i.e. positive/ negative\n",
    "    }).sort_values('Count', ascending=False)\n",
    "    \n",
    "    pd_df['color'] = pd_df.polarity.apply(lambda polarity: 'green' if polarity=='positive' else 'red')\n",
    "    \n",
    "    plt.figure( figsize = (15, 8) )\n",
    "    chart=sb.barplot(data=pd_df, x='Opinion', y='Count', hue='polarity', palette=[\"green\", \"red\"], order=pd_df['Opinion'])\n",
    "    chart.set_xticklabels(\n",
    "    chart.get_xticklabels(), \n",
    "    rotation=80, \n",
    "    horizontalalignment='right',\n",
    "    fontweight='light',\n",
    "    fontsize='x-large',\n",
    "    )\n",
    "    \n",
    "    for tick, color in zip(chart.get_xticklabels(), pd_df['color']): \n",
    "        tick.set_color(color)\n",
    "    \n",
    "    plt.show()"
   ]
  },
  {
   "cell_type": "code",
   "execution_count": 25,
   "metadata": {},
   "outputs": [
    {
     "data": {
      "image/png": "[encoded data removed]",
      "text/plain": [
       "<Figure size 1080x576 with 1 Axes>"
      ]
     },
     "metadata": {
      "needs_background": "light"
     },
     "output_type": "display_data"
    }
   ],
   "source": [
    "## Plot of top positives and negatives words in Donald Trump's tweets\n",
    "\n",
    "plot_opinion(list_top_positives_opinion, list_top_negatives_opinion)"
   ]
  },
  {
   "cell_type": "markdown",
   "metadata": {},
   "source": [
    "We can see that Donald Trump has used more positive words than negative words in general.\n",
    "\n",
    "\n",
    "For positive words, **'great'** is the most frequently used as this word is one of his campaign slogan or his mantras. He always uses either **'thank'** ot **'thanks'** to show appreciation of his team or other political figures.  \n",
    "\n",
    "\n",
    "For negative words, the usages of **'fake'** and **'bad'** are double that of other negative words. This could be the reason of numerous fake news of himeself and his team, and he stands out and points it out."
   ]
  },
  {
   "cell_type": "markdown",
   "metadata": {},
   "source": [
    "### Sentiment Score\n",
    "\n",
    "As indicated above, the tweets of Donald Trump are **mainly positive** as the overall sentiment score is positive."
   ]
  },
  {
   "cell_type": "code",
   "execution_count": 26,
   "metadata": {},
   "outputs": [
    {
     "name": "stdout",
     "output_type": "stream",
     "text": [
      "The sentiment score is :  28852\n"
     ]
    }
   ],
   "source": [
    "## Compute the global sentiment score\n",
    "\n",
    "# sentiment score = count of positive words used - count of negative words used\n",
    "sentiment_score = rdd_positive_words_tweets_count_kv.map(lambda tuple: tuple[1]).sum()\\\n",
    "                  - rdd_negative_words_tweets_count_kv.map(lambda tuple: tuple[1]).sum()\n",
    "\n",
    "print('The sentiment score is : ',sentiment_score)"
   ]
  },
  {
   "cell_type": "markdown",
   "metadata": {},
   "source": [
    "### Overall Analysis - Hot Topics\n",
    "\n",
    "Generally, Donald Trump's tweets are about the following topics:\n",
    "\n",
    "1) United States  \n",
    "   -  General  \n",
    "        - u.s\n",
    "        - america\n",
    "        - american\n",
    "        - united\n",
    "        - states\n",
    "        - today - Report/ share the thing happened on that day\n",
    "        - news  - Share the news/ breaking\n",
    "        - people\n",
    "        - national\n",
    "        \n",
    "        \n",
    "   - 2016 Presidential Election  \n",
    "        - vote\n",
    "        - election\n",
    "        - hillary - Hillary Clinton, democrat, candidate of 2016 Presidential Election\n",
    "        - clinton - Same as above / the Clinton Family\n",
    "        - campaign\n",
    "        - america\n",
    "        - state  - Probably about the campaign in a particular state, e.g. Iowa, Florida\n",
    "        - 2016   - Election year\n",
    "        - interview - Interviews with different media or interview somebody\n",
    "        - history - Probably refer to make America great again in history\n",
    "        - media - Could be the effect of media on the US Presidential election\n",
    "        \n",
    "        \n",
    "   - 2020 Presidential Election\n",
    "        - joe - Joe Biden , democrat, candidate of 2020 Presidential Election\n",
    "        - biden - Same as above\n",
    "    \n",
    "    \n",
    "   - Politics\n",
    "        - president - Could be about himself or about the former President Obama\n",
    "        - house     - Refering to White House\n",
    "        - democrats - one of the two main political parties in U.S ( his opponents)\n",
    "        - dems      - Same as above\n",
    "        - republicans - one of the two main political parties in U.S (himself)\n",
    "        - party       - Political parties\n",
    "        - impeachment - The impeachment of Donald Trump in 2019 and 2020\n",
    "        - joe - Joe Biden , member of the Democratic Party, the 47th vice president during the Obama administration from 2009 to 2017\n",
    "        - biden\n",
    "    \n",
    "    \n",
    "2) Economy  \n",
    "   - jobs  \n",
    "   - economy  \n",
    "   - money  \n",
    "    \n",
    "    \n",
    "3) International Politics  \n",
    "   - border - The border of U.S and Mexico  \n",
    "   - china - The trade war and relationship with China  \n",
    "   - u.s  \n",
    "   - military  - Military policy/ spending bill\n",
    "   - deal - Deal with Middle East and other countries  \n",
    "   - world  \n",
    "    "
   ]
  },
  {
   "cell_type": "code",
   "execution_count": 29,
   "metadata": {},
   "outputs": [
    {
     "data": {
      "text/plain": [
       "['a', 'about', 'above', 'across', 'after']"
      ]
     },
     "execution_count": 29,
     "metadata": {},
     "output_type": "execute_result"
    }
   ],
   "source": [
    "## Read the stop words file\n",
    "\n",
    "# We have added extra stop words, refer to the 'stop-words.txt'\n",
    "rdd_stop_words = sc.textFile('stop-words.txt')\n",
    "\n",
    "rdd_stop_words.take(5)"
   ]
  },
  {
   "cell_type": "code",
   "execution_count": 28,
   "metadata": {},
   "outputs": [
    {
     "data": {
      "text/plain": [
       "['schools', 'schools', 'schools', 'schools', 'schools']"
      ]
     },
     "execution_count": 28,
     "metadata": {},
     "output_type": "execute_result"
    }
   ],
   "source": [
    "## Get the contextual words\n",
    "\n",
    "# contextual words = all words in the tweets - positive words - negative words - stop words - references(@) - hashtags(#)\n",
    "contextual_words = rdd_tweets_words_lower.subtract(rdd_positive_words).subtract(rdd_negative_words).subtract(rdd_stop_words)\\\n",
    "                    .subtract(references).subtract(hashtags)\n",
    "contextual_words.take(5)"
   ]
  },
  {
   "cell_type": "code",
   "execution_count": 30,
   "metadata": {},
   "outputs": [
    {
     "data": {
      "text/plain": [
       "[('president', 4325),\n",
       " ('people', 3287),\n",
       " ('new', 2466),\n",
       " ('country', 2159),\n",
       " ('america', 2109),\n",
       " ('big', 2039),\n",
       " ('time', 1831),\n",
       " ('news', 1742),\n",
       " ('democrats', 1680),\n",
       " ('obama', 1621),\n",
       " ('vote', 1619),\n",
       " ('today', 1574),\n",
       " ('american', 1389),\n",
       " ('job', 1224),\n",
       " ('years', 1216),\n",
       " ('need', 1201),\n",
       " ('u.s', 1121),\n",
       " ('china', 1104),\n",
       " ('media', 1100),\n",
       " ('house', 1021),\n",
       " ('jobs', 997),\n",
       " ('border', 946),\n",
       " ('states', 941),\n",
       " ('state', 934),\n",
       " ('election', 916),\n",
       " ('deal', 909),\n",
       " ('biden', 900),\n",
       " ('world', 898),\n",
       " ('hillary', 887),\n",
       " ('united', 867),\n",
       " ('joe', 808),\n",
       " ('national', 776),\n",
       " ('republican', 751),\n",
       " ('military', 718),\n",
       " ('money', 698),\n",
       " ('year', 676),\n",
       " ('history', 671),\n",
       " ('campaign', 664),\n",
       " ('economy', 654),\n",
       " ('2016', 651),\n",
       " ('man', 632),\n",
       " ('help', 632),\n",
       " ('interview', 623),\n",
       " ('republicans', 614),\n",
       " ('dems', 609),\n",
       " ('record', 607),\n",
       " ('party', 600),\n",
       " ('stop', 598),\n",
       " ('impeachment', 596),\n",
       " ('clinton', 572)]"
      ]
     },
     "execution_count": 30,
     "metadata": {},
     "output_type": "execute_result"
    }
   ],
   "source": [
    "## Top 50 Hot Topics / Contextual Words\n",
    "\n",
    "contextual_words_count_ordered = contextual_words.map(lambda word: (word, 1))\\\n",
    "                                                 .reduceByKey(lambda x,y : x+y)\\\n",
    "                                                 .sortBy(lambda tuple: tuple[1], ascending=False)\n",
    "\n",
    "list_top_contextual_words = contextual_words_count_ordered.take(50)  \n",
    "\n",
    "list_top_contextual_words"
   ]
  },
  {
   "cell_type": "code",
   "execution_count": 31,
   "metadata": {},
   "outputs": [],
   "source": [
    "## Create a function for plotting a bar chart of the Top 50 Contextual Words\n",
    "\n",
    "def plot_contextual_words(list_contextual_words):\n",
    "    \n",
    "    pd_df = pd.DataFrame({\n",
    "        'Word':  [ t[0] for t in list_contextual_words ],\n",
    "        'Count': [ t[1] for t in list_contextual_words ]\n",
    "    }).sort_values('Count', ascending=False)\n",
    "    \n",
    "    plt.figure( figsize = (15, 8) )\n",
    "    \n",
    "    chart=sb.barplot(data=pd_df, x='Word', y='Count', order=pd_df['Word'], color='blue')\n",
    "    \n",
    "    chart.set_xticklabels(\n",
    "        chart.get_xticklabels(), \n",
    "        rotation=80, \n",
    "        horizontalalignment='right',\n",
    "        fontweight='light',\n",
    "        fontsize='x-large',\n",
    "        )\n",
    "    \n",
    "    plt.show()"
   ]
  },
  {
   "cell_type": "code",
   "execution_count": 32,
   "metadata": {},
   "outputs": [
    {
     "data": {
      "image/png": "[encoded data removed]",
      "text/plain": [
       "<Figure size 1080x576 with 1 Axes>"
      ]
     },
     "metadata": {
      "needs_background": "light"
     },
     "output_type": "display_data"
    }
   ],
   "source": [
    "## Plot of Top 50 Contextual Words in Donald Trump's tweets\n",
    "\n",
    "plot_contextual_words(list_top_contextual_words)"
   ]
  },
  {
   "cell_type": "markdown",
   "metadata": {},
   "source": [
    "**'President'** is the most frequently used contextual word possibly because he uses 'President Trump' for every announment his makes."
   ]
  },
  {
   "cell_type": "markdown",
   "metadata": {},
   "source": [
    "# Comparison between original tweets and retweets\n",
    "\n",
    "\n",
    "\n",
    "**Original tweets** are usually shared by Donald Trump compared to retweets. There are 48618 original tweets and 10063 retweets from 2009 to 2020. The number of original tweets are **4 times** of that of retweets. In this section, we will compare the sentiment analysis and hot topics between original tweets and retweets over years."
   ]
  },
  {
   "cell_type": "code",
   "execution_count": 33,
   "metadata": {},
   "outputs": [],
   "source": [
    "# Filter the Original tweets\n",
    "rdd_original_tweets  = rdd_tweets.filter(lambda line: \"RT\" not in line)\n",
    "\n",
    "# Filter the Retweets\n",
    "\n",
    "rdd_retweets = rdd_tweets.filter(lambda line: \"RT\" in line)"
   ]
  },
  {
   "cell_type": "code",
   "execution_count": 34,
   "metadata": {},
   "outputs": [
    {
     "data": {
      "text/plain": [
       "48618"
      ]
     },
     "execution_count": 34,
     "metadata": {},
     "output_type": "execute_result"
    }
   ],
   "source": [
    "# Number of original tweets\n",
    "\n",
    "number_of_ot = rdd_original_tweets.count()\n",
    "number_of_ot"
   ]
  },
  {
   "cell_type": "code",
   "execution_count": 35,
   "metadata": {},
   "outputs": [
    {
     "data": {
      "text/plain": [
       "10063"
      ]
     },
     "execution_count": 35,
     "metadata": {},
     "output_type": "execute_result"
    }
   ],
   "source": [
    "# Number of retweets\n",
    "\n",
    "number_of_rt = rdd_retweets.count()\n",
    "number_of_rt"
   ]
  },
  {
   "cell_type": "code",
   "execution_count": 36,
   "metadata": {},
   "outputs": [
    {
     "name": "stdout",
     "output_type": "stream",
     "text": [
      "The ratio of original tweet to retweet is : 4.831362416774322\n",
      "For every retweet , there are 4 original tweets\n"
     ]
    }
   ],
   "source": [
    "# The ratio of original tweet to retweet\n",
    "\n",
    "import math\n",
    "\n",
    "ratio_of_retweet = number_of_ot / number_of_rt\n",
    "print (f'The ratio of original tweet to retweet is : {ratio_of_retweet}')\n",
    "print (f'For every retweet , there are {math.trunc(ratio_of_retweet)} original tweets' )"
   ]
  },
  {
   "cell_type": "markdown",
   "metadata": {},
   "source": [
    "## 3) Original Tweet Analysis\n",
    "\n",
    "### Top 10 Hashtags (#) of Original tweets\n",
    "\n",
    "The top 10 hashtags of Donald Trump's original tweets have **not much difference** from the top 10 hashtages of all the tweets, **except #VoteTrump** which he calls for votes.\n",
    "\n",
    "The topics of the hashtags are about : \n",
    "\n",
    "##### 1) **2016 U.S. President Election** :   \n",
    "- #Trump2016   \n",
    "- #Trump2016https   \n",
    "- #MAGA    \n",
    "- #MakeAmericaGreatAgain     \n",
    "- #AmericaFirst    \n",
    "- #VoteTrump\n",
    "     \n",
    "     \n",
    "##### 2) **Celebrity Apprentice** :  \n",
    "an American television reality competition series hosted by Donald Trump before his presidency ( for 2008-2015)   \n",
    "\n",
    "- #CelebApprentice  \n",
    "- #CelebrityApprentice    \n",
    "\n",
    "\n",
    "##### 3) Tile of his book ***Time to Get Tough: Making America #1 Again*** :   \n",
    "- #TimeToGetTough    \n",
    "- #1 \n"
   ]
  },
  {
   "cell_type": "code",
   "execution_count": 37,
   "metadata": {},
   "outputs": [
    {
     "data": {
      "text/plain": [
       "[('#Trump2016', 681),\n",
       " ('#MakeAmericaGreatAgain', 378),\n",
       " ('#MAGA', 367),\n",
       " ('#CelebApprentice', 282),\n",
       " ('#CelebrityApprentice', 131),\n",
       " ('#1', 130),\n",
       " ('#TimeToGetTough', 95),\n",
       " ('#Trump2016https', 65),\n",
       " ('#VoteTrump', 64),\n",
       " ('#AmericaFirst', 64)]"
      ]
     },
     "execution_count": 37,
     "metadata": {},
     "output_type": "execute_result"
    }
   ],
   "source": [
    "# Split each tweet into words\n",
    "words_ot = rdd_original_tweets.flatMap(lambda word:re.split(',| |\\[|\\]|,|:|;|\\.|\\\"', word.strip())).flatMap(lambda line: line.split(' '))\n",
    "\n",
    "# Filter the words to get only hashtags, then map each hashtag to be a pair of (hashtag,1)\n",
    "hashtags_ot = words_ot.filter(lambda w: '#' in w).map(lambda x: (x, 1))\n",
    "\n",
    "## Top 10 Hashtags of Original tweets\n",
    "hashtags_ot_count = hashtags_ot.reduceByKey(lambda x,y : x+y).sortBy(lambda tuple: tuple[1], ascending=False)\n",
    "hashtags_ot_count.take(10)"
   ]
  },
  {
   "cell_type": "markdown",
   "metadata": {},
   "source": [
    "### Top 10 References (@) of Original Tweets\n",
    "\n",
    "The top 10 references of original tweets are more or less the same as the overal top 10 references.  \n",
    "##### Added :   \n",
    "\n",
    "- @MittRomney\n",
    "- @nytimes  \n",
    "    \n",
    "    \n",
    "##### Not on list for original tweets:  \n",
    "\n",
    "- @WhiteHouse \n",
    "- @TeamTrump \n",
    "    \n",
    "##### The references Donald Trump has been using can be categorized as :\n",
    "\n",
    "\n",
    "##### 1) Himself, Republicans, his team  and political figures\n",
    "- @realDonaldTrump \n",
    "- @IvankaTrump  \n",
    "- @seanhannity \n",
    "- @BarackObama\n",
    "- @MittRomney -  MittRomney, republican, junior United States senator from Utah since January 2019\n",
    "\n",
    "##### 2) News source / Media  \n",
    "- @FoxNews       - Conservative(Leans Right) News\n",
    "- @foxandfriends - The weekday morning news show of Fox News Channel\n",
    "- @CNN           - Liberal(Leans Left ) News\n",
    "- @nytimes       - Liberal(Leans Left ) News\n",
    "    \n",
    "##### 3) TV Show\n",
    "- @ApprenticeNBC - Celebrity Apprentice"
   ]
  },
  {
   "cell_type": "code",
   "execution_count": 38,
   "metadata": {},
   "outputs": [
    {
     "data": {
      "text/plain": [
       "[('@realDonaldTrump', 8104),\n",
       " ('@FoxNews', 785),\n",
       " ('@foxandfriends', 605),\n",
       " ('@BarackObama', 556),\n",
       " ('@ApprenticeNBC', 359),\n",
       " ('@CNN', 356),\n",
       " ('@MittRomney', 261),\n",
       " ('@seanhannity', 188),\n",
       " ('@nytimes', 181),\n",
       " ('@IvankaTrump', 154)]"
      ]
     },
     "execution_count": 38,
     "metadata": {},
     "output_type": "execute_result"
    }
   ],
   "source": [
    "# Filter the words to get only references, then map each reference to be a pair of (reference,1)\n",
    "references_ot = words_ot.filter(lambda w: '@' in w).map(lambda x: (x, 1))\n",
    "\n",
    "## Top 10 references of Original tweets\n",
    "references_ot_count = references_ot.reduceByKey(lambda x,y : x+y).sortBy(lambda tuple: tuple[1], ascending=False)\n",
    "references_ot_count.take(10)"
   ]
  },
  {
   "cell_type": "markdown",
   "metadata": {},
   "source": [
    "### Sentiment Analysis of Original Tweets\n",
    "#### Pre-processing the data"
   ]
  },
  {
   "cell_type": "code",
   "execution_count": 39,
   "metadata": {},
   "outputs": [
    {
     "data": {
      "text/plain": [
       "['republicans',\n",
       " 'and',\n",
       " 'democrats',\n",
       " 'have',\n",
       " 'both',\n",
       " 'created',\n",
       " 'our',\n",
       " 'economic',\n",
       " 'problems',\n",
       " '02/08/2011']"
      ]
     },
     "execution_count": 39,
     "metadata": {},
     "output_type": "execute_result"
    }
   ],
   "source": [
    "# Split the original tweets into a word list and filter the punctuation\n",
    "\n",
    "rdd_original_tweets_words = rdd_original_tweets.flatMap(split_with_multiple_separator).filter(lambda word: word!='' and word!='”' and word!='.')\n",
    "\n",
    "# Delete \"https\" contents of the original tweets\n",
    "\n",
    "rdd_original_tweets_words = rdd_original_tweets_words.filter(lambda line: delhttps(line) != 1)\n",
    "\n",
    "# Transform all the words into lowercase\n",
    "rdd_original_tweets_words_lower = rdd_original_tweets_words.flatMap(lambda word:word.lower().split())\n",
    "rdd_original_tweets_words_lower.take(10)"
   ]
  },
  {
   "cell_type": "code",
   "execution_count": 40,
   "metadata": {},
   "outputs": [
    {
     "data": {
      "text/plain": [
       "[('republicans', 1),\n",
       " ('and', 1),\n",
       " ('democrats', 1),\n",
       " ('have', 1),\n",
       " ('both', 1),\n",
       " ('created', 1),\n",
       " ('our', 1),\n",
       " ('economic', 1),\n",
       " ('problems', 1),\n",
       " ('02/08/2011', 1)]"
      ]
     },
     "execution_count": 40,
     "metadata": {},
     "output_type": "execute_result"
    }
   ],
   "source": [
    "# Initialize an rdd with key/value for counting each word in the original tweets \n",
    "\n",
    "rdd_original_tweets_words_kv = rdd_original_tweets_words_lower.map(lambda word: (word, 1))\n",
    "\n",
    "rdd_original_tweets_words_kv.take(10)"
   ]
  },
  {
   "cell_type": "markdown",
   "metadata": {},
   "source": [
    "### Top Positive Words of Original Tweets\n"
   ]
  },
  {
   "cell_type": "code",
   "execution_count": 41,
   "metadata": {},
   "outputs": [
    {
     "data": {
      "text/plain": [
       "[('thrilled', 46),\n",
       " ('wonderful', 462),\n",
       " ('sustainable', 3),\n",
       " ('best', 1129),\n",
       " ('like', 1808)]"
      ]
     },
     "execution_count": 41,
     "metadata": {},
     "output_type": "execute_result"
    }
   ],
   "source": [
    "## Join the cleaned word list with the positive word list\n",
    "# Use the mapValues transformation to assign a default count of 1 for each positive word\n",
    "\n",
    "rdd_positive_words_ot_kv = rdd_original_tweets_words_kv.join(rdd_positive_words_kv).mapValues(lambda tuple: 1)\n",
    "\n",
    "## Count the number of occurences of each positive word in original tweets\n",
    "\n",
    "rdd_positive_words_ot_count_kv = rdd_positive_words_ot_kv.reduceByKey(lambda x,y : x+y)\n",
    "\n",
    "rdd_positive_words_ot_count_kv.take(5)"
   ]
  },
  {
   "cell_type": "code",
   "execution_count": 42,
   "metadata": {},
   "outputs": [
    {
     "data": {
      "text/plain": [
       "[('great', 6998),\n",
       " ('trump', 4868),\n",
       " ('thank', 3237),\n",
       " ('like', 1808),\n",
       " ('thanks', 1798),\n",
       " ('good', 1693),\n",
       " ('best', 1129),\n",
       " ('love', 1066),\n",
       " ('win', 980),\n",
       " ('true', 888),\n",
       " ('work', 869),\n",
       " ('better', 777),\n",
       " ('right', 765),\n",
       " ('well', 679),\n",
       " ('strong', 641),\n",
       " ('real', 598),\n",
       " ('amazing', 589),\n",
       " ('nice', 550),\n",
       " ('congratulations', 549),\n",
       " ('happy', 512),\n",
       " ('support', 505),\n",
       " ('wonderful', 462),\n",
       " ('wow', 450),\n",
       " ('endorsement', 442),\n",
       " ('honor', 436)]"
      ]
     },
     "execution_count": 42,
     "metadata": {},
     "output_type": "execute_result"
    }
   ],
   "source": [
    "## Top 25 positive words of original tweets\n",
    "\n",
    "rdd_positive_words_ot_count_kv_ordered = rdd_positive_words_ot_count_kv.sortBy(lambda tuple: tuple[1], ascending=False)\n",
    "\n",
    "list_top_positives_opinion_ot = rdd_positive_words_ot_count_kv_ordered.take(25)\n",
    "\n",
    "list_top_positives_opinion_ot"
   ]
  },
  {
   "cell_type": "markdown",
   "metadata": {},
   "source": [
    "### Top Negative Words of Original Tweets\n"
   ]
  },
  {
   "cell_type": "code",
   "execution_count": 43,
   "metadata": {},
   "outputs": [
    {
     "data": {
      "text/plain": [
       "[('threat', 64),\n",
       " ('disaster', 279),\n",
       " ('fraud', 150),\n",
       " ('worse', 212),\n",
       " ('dishonest', 197)]"
      ]
     },
     "execution_count": 43,
     "metadata": {},
     "output_type": "execute_result"
    }
   ],
   "source": [
    "## Join the cleaned word list with the negative word list\n",
    "# Use the mapValues transformation to assign a default count of 1 for each negative word\n",
    "\n",
    "rdd_negative_words_ot_kv = rdd_original_tweets_words_kv.join(rdd_negative_words_kv).mapValues(lambda tuple:1)\n",
    "\n",
    "## Count the number of occurences of each negative word in tweets\n",
    "\n",
    "rdd_negative_words_ot_count_kv = rdd_negative_words_ot_kv.reduceByKey(lambda x,y: x+y)\n",
    "\n",
    "rdd_negative_words_ot_count_kv.take(5)"
   ]
  },
  {
   "cell_type": "code",
   "execution_count": 44,
   "metadata": {},
   "outputs": [
    {
     "data": {
      "text/plain": [
       "[('fake', 1118),\n",
       " ('bad', 942),\n",
       " ('hard', 685),\n",
       " ('crime', 491),\n",
       " ('crooked', 430),\n",
       " ('wrong', 393),\n",
       " ('illegal', 365),\n",
       " ('terrible', 356),\n",
       " ('lost', 328),\n",
       " ('radical', 320),\n",
       " ('corrupt', 315),\n",
       " ('sad', 312),\n",
       " ('disaster', 279),\n",
       " ('collusion', 268),\n",
       " ('miss', 262),\n",
       " ('crazy', 261),\n",
       " ('problem', 260),\n",
       " ('failing', 246),\n",
       " ('badly', 244),\n",
       " ('hoax', 236),\n",
       " ('worst', 232),\n",
       " ('attack', 232),\n",
       " ('failed', 231),\n",
       " ('weak', 221),\n",
       " ('phony', 213)]"
      ]
     },
     "execution_count": 44,
     "metadata": {},
     "output_type": "execute_result"
    }
   ],
   "source": [
    "## Top 25 negative words of original tweets\n",
    "rdd_negative_words_ot_count_kv_ordered = rdd_negative_words_ot_count_kv.sortBy(lambda tuple: tuple[1], ascending=False)\n",
    "\n",
    "list_top_negatives_opinion_ot = rdd_negative_words_ot_count_kv_ordered.take(25)\n",
    "\n",
    "list_top_negatives_opinion_ot"
   ]
  },
  {
   "cell_type": "code",
   "execution_count": 45,
   "metadata": {},
   "outputs": [
    {
     "data": {
      "image/png": "[encoded data removed]",
      "text/plain": [
       "<Figure size 1080x576 with 1 Axes>"
      ]
     },
     "metadata": {
      "needs_background": "light"
     },
     "output_type": "display_data"
    }
   ],
   "source": [
    "## Plot of top positives and negatives words in Donald Trump's original tweets\n",
    "\n",
    "plot_opinion(list_top_positives_opinion_ot, list_top_negatives_opinion_ot)"
   ]
  },
  {
   "cell_type": "markdown",
   "metadata": {},
   "source": [
    "The distribution of top positive and negative words in original tweets is similar to that of all the tweets. **'Great'** and **'fake'** are still the most frequently used positive and negative words respectively.\n",
    "\n",
    "### Sentiment Score\n",
    "\n",
    "As indicated above, the tweets of Donald Trump are **mainly positive** as the overall sentiment score is positive."
   ]
  },
  {
   "cell_type": "code",
   "execution_count": 46,
   "metadata": {},
   "outputs": [
    {
     "name": "stdout",
     "output_type": "stream",
     "text": [
      "The sentiment score is :  26780\n"
     ]
    }
   ],
   "source": [
    "## Compute the global sentiment score\n",
    "\n",
    "# sentiment score = count of positive words used - count of negative words used\n",
    "sentiment_score_ot = rdd_positive_words_ot_count_kv.map(lambda tuple: tuple[1]).sum()\\\n",
    "                  - rdd_negative_words_ot_count_kv.map(lambda tuple: tuple[1]).sum()\n",
    "\n",
    "print('The sentiment score is : ',sentiment_score_ot)"
   ]
  },
  {
   "cell_type": "markdown",
   "metadata": {},
   "source": [
    "### Hot Topics of Original Tweets\n",
    "The hot topics of Donald Trump's original tweets more or less the same as those of all tweets which are about the following topics:\n",
    "\n",
    "1) United States  \n",
    "   -  General  \n",
    "        - u.s\n",
    "        - america\n",
    "        - american\n",
    "        - united\n",
    "        - states\n",
    "        - today - Report/ share the thing happened on that day\n",
    "        - news  - Share the news/ breaking\n",
    "        - people\n",
    "        - national\n",
    "        \n",
    "        \n",
    "   - 2016 Presidential Election  \n",
    "        - vote\n",
    "        - election\n",
    "        - hillary - Hillary Clinton, democrat, candidate of 2016 Presidential Election\n",
    "        - clinton - Same as above / the Clinton Family\n",
    "        - campaign\n",
    "        - america\n",
    "        - state  - Probably about the campaign in a particular state, e.g. Iowa, Florida\n",
    "        - 2016   - Election year\n",
    "        - interview - Interviews with different media or interview somebody\n",
    "        - history - Probably refer to make America great again in history\n",
    "        - media - Could be the effect of media on the US Presidential election\n",
    "        \n",
    "        \n",
    "   - 2020 Presidential Election\n",
    "        - joe - Joe Biden , democrat, candidate of 2020 Presidential Election\n",
    "        - biden - Same as above\n",
    "        - vote\n",
    "        - election\n",
    "    \n",
    "    \n",
    "   - Politics\n",
    "        - president - Could be about himself or about the former President Obama\n",
    "        - house     - Refering to White House\n",
    "        - democrats - one of the two main political parties in U.S ( his opponents)\n",
    "        - dems      - Same as above\n",
    "        - republicans - one of the two main political parties in U.S (himself)\n",
    "        - party       - Political parties\n",
    "        - impeachment - The impeachment of Donald Trump in 2019 and 2020\n",
    "        - joe - Joe Biden , member of the Democratic Party, the 47th vice president during the Obama administration from 2009 to 2017\n",
    "        - biden  - same as above\n",
    "    \n",
    "    \n",
    "2) Economy  \n",
    "   - jobs  \n",
    "   - economy  \n",
    "   - money\n",
    "   - business\n",
    "    \n",
    "    \n",
    "3) International Politics  \n",
    "   - border - The border of U.S and Mexico  \n",
    "   - china - The trade war and relationship with China  \n",
    "   - u.s  \n",
    "   - military  - Military policy/ spending bill\n",
    "   - deal - Deal with Middle East and other countries  \n",
    "   - world  \n",
    "    "
   ]
  },
  {
   "cell_type": "code",
   "execution_count": 48,
   "metadata": {},
   "outputs": [],
   "source": [
    "## Get the contextual words\n",
    "\n",
    "contextual_words_ot = rdd_original_tweets_words_lower.subtract(rdd_positive_words).subtract(rdd_negative_words).subtract(rdd_stop_words)\\\n",
    "                        .subtract(references).subtract(hashtags)\n"
   ]
  },
  {
   "cell_type": "code",
   "execution_count": 49,
   "metadata": {},
   "outputs": [
    {
     "data": {
      "text/plain": [
       "[('people', 2903),\n",
       " ('president', 2871),\n",
       " ('new', 2081),\n",
       " ('country', 1984),\n",
       " ('big', 1899),\n",
       " ('america', 1813),\n",
       " ('time', 1625),\n",
       " ('news', 1484),\n",
       " ('obama', 1455),\n",
       " ('vote', 1421),\n",
       " ('today', 1208),\n",
       " ('democrats', 1192),\n",
       " ('job', 1136),\n",
       " ('need', 1080),\n",
       " ('years', 1031),\n",
       " ('china', 1022),\n",
       " ('american', 997),\n",
       " ('u.s', 975),\n",
       " ('media', 868),\n",
       " ('jobs', 868),\n",
       " ('hillary', 838),\n",
       " ('border', 831),\n",
       " ('world', 828),\n",
       " ('deal', 823),\n",
       " ('states', 799),\n",
       " ('state', 779),\n",
       " ('house', 764),\n",
       " ('election', 741),\n",
       " ('united', 735),\n",
       " ('military', 653),\n",
       " ('money', 651),\n",
       " ('republican', 629),\n",
       " ('national', 629),\n",
       " ('year', 608),\n",
       " ('man', 584),\n",
       " ('2016', 571),\n",
       " ('history', 563),\n",
       " ('interview', 557),\n",
       " ('campaign', 548),\n",
       " ('stop', 530),\n",
       " ('business', 526),\n",
       " ('record', 524),\n",
       " ('joe', 524),\n",
       " ('republicans', 521),\n",
       " ('economy', 520),\n",
       " ('hope', 512),\n",
       " ('clinton', 507),\n",
       " ('help', 507),\n",
       " ('biden', 506),\n",
       " ('trade', 498)]"
      ]
     },
     "execution_count": 49,
     "metadata": {},
     "output_type": "execute_result"
    }
   ],
   "source": [
    "## Top 50 Contextual Words/ Hot Topics\n",
    "\n",
    "contextual_words_count_ordered_ot = contextual_words_ot.map(lambda word: (word, 1))\\\n",
    "                                                 .reduceByKey(lambda x,y : x+y)\\\n",
    "                                                 .sortBy(lambda tuple: tuple[1], ascending=False)\n",
    "\n",
    "list_top_contextual_words_ot = contextual_words_count_ordered_ot.take(50)  \n",
    "\n",
    "list_top_contextual_words_ot"
   ]
  },
  {
   "cell_type": "code",
   "execution_count": 50,
   "metadata": {},
   "outputs": [
    {
     "data": {
      "image/png": "[encoded data removed]",
      "text/plain": [
       "<Figure size 1080x576 with 1 Axes>"
      ]
     },
     "metadata": {
      "needs_background": "light"
     },
     "output_type": "display_data"
    }
   ],
   "source": [
    "## Plot of Top 50 Contextual Words in Donald Trump's original tweets\n",
    "\n",
    "plot_contextual_words(list_top_contextual_words_ot)"
   ]
  },
  {
   "cell_type": "markdown",
   "metadata": {},
   "source": [
    "## 4) Retweet Analysis\n",
    "\n",
    "### Top 10 Hashtags (#) of Retweets\n",
    "\n",
    "The top 10 hashtags of Donald Trump's retweets are different from the top 10 hashtages of his original tweets as most of the hashtags of retweets are related to **current affairs (including COVID-19)** instead of his presidential election.\n",
    "\n",
    "The topics of the hashtags are about : \n",
    "\n",
    "##### 1) **2016 U.S. President Election** :   \n",
    "- #Trump2016    \n",
    "- #MAGA    \n",
    "         \n",
    "     \n",
    "##### 2) **COVID-19** :  \n",
    "- #COVID19  \n",
    "- #coronavirus \n",
    "- **#PaycheckProtectionProgram** - The Paycheck Protection Program is one of two programs designed to help small businesses during the coronavirus crisis in 2020\n",
    "\n",
    "\n",
    "##### 3) Current Affairs in U.S : \n",
    "\n",
    "- **#Dorian**  -  Hurricane Dorian impacts the East Coast of U.S in 2019\n",
    "- **#Florence** - Hurricane Florence causes catastrophic damage in the Carolinas in September 2018\n",
    "- #BREAKING - Sharing of breaking news \n",
    "- #USMCA - United States-Mexico-Canada Agreement (North American Free Trade Agreement) signed in 2018 and 2019\n",
    "- #impeachment - The impeachment of Donald Trump in 2019 and 2020\n",
    "     \n"
   ]
  },
  {
   "cell_type": "code",
   "execution_count": 51,
   "metadata": {},
   "outputs": [
    {
     "data": {
      "text/plain": [
       "[('#MAGA', 69),\n",
       " ('#COVID19', 60),\n",
       " ('#USMCA', 32),\n",
       " ('#Dorian', 29),\n",
       " ('#coronavirus', 27),\n",
       " ('#PaycheckProtectionProgram', 21),\n",
       " ('#impeachment', 17),\n",
       " ('#BREAKING', 15),\n",
       " ('#Florence', 15),\n",
       " ('#Trump2016', 14)]"
      ]
     },
     "execution_count": 51,
     "metadata": {},
     "output_type": "execute_result"
    }
   ],
   "source": [
    "# Split each tweet into words\n",
    "words_rt = rdd_retweets.flatMap(lambda word:re.split(',| |\\[|\\]|,|:|;|\\.|\\\"', word.strip())).flatMap(lambda line: line.split(\" \"))\n",
    "\n",
    "# Filter the words to get only hashtags, then map each hashtag to be a pair of (hashtag,1)\n",
    "hashtags_rt = words_rt.filter(lambda w: '#' in w).map(lambda x: (x, 1))\n",
    "\n",
    "## Top 10 Hashtags of Retweets\n",
    "hashtags_rt_count = hashtags_rt.reduceByKey(lambda x,y : x+y).sortBy(lambda tuple: tuple[1], ascending=False)\n",
    "hashtags_rt_count.take(10)"
   ]
  },
  {
   "cell_type": "markdown",
   "metadata": {},
   "source": [
    "### Top 10 References (@) of Retweets\n",
    "\n",
    "The top 10 references of retweets are **Republican** or **government officials** or **his relatives** whereas his original tweet references are more diversified.  \n",
    "\n",
    "\n",
    "- @realDonaldTrump \n",
    "- @WhiteHouse - The offical Twitter account of President Trump  \n",
    "- @TeamTrump - The official Twitter account for the Trump Campaign (both 2016 and 2020) \n",
    "- @POTUS - President of the United States, an official US government twittwer account of President\n",
    "- @Jim_Jordan - Jim Jordan, U.S. representative for Ohio's 4th congressional district since 2007\n",
    "- @DanScavino - Dan Scavino, White House Deputy Chief of Staff\n",
    "- @GOPChairwoman - Ronna McDaniel, Chair of the Republican National Committee since 2017\n",
    "- @GOP - Republican Party\n",
    "- @DonaldJTrumpJr - Donald Trump Jr., a trustee and executive vice president of the Trump Organization\n",
    "- @dbongino - Conservative political commentator, radio show host, author, politician\n"
   ]
  },
  {
   "cell_type": "code",
   "execution_count": 52,
   "metadata": {},
   "outputs": [
    {
     "data": {
      "text/plain": [
       "[('@realDonaldTrump', 2382),\n",
       " ('@WhiteHouse', 694),\n",
       " ('@TeamTrump', 286),\n",
       " ('@GOPChairwoman', 217),\n",
       " ('@DanScavino', 168),\n",
       " ('@Jim_Jordan', 161),\n",
       " ('@POTUS', 150),\n",
       " ('@GOP', 148),\n",
       " ('@DonaldJTrumpJr', 137),\n",
       " ('@dbongino', 134)]"
      ]
     },
     "execution_count": 52,
     "metadata": {},
     "output_type": "execute_result"
    }
   ],
   "source": [
    "# Filter the words to get only references, then map each reference to be a pair of (reference,1)\n",
    "references_rt = words_rt.filter(lambda w: '@' in w).map(lambda x: (x, 1))\n",
    "\n",
    "### Top 10 references of Retweets\n",
    "\n",
    "references_rt_count = references_rt.reduceByKey(lambda x,y : x+y).sortBy(lambda tuple: tuple[1], ascending=False)\n",
    "references_rt_count.take(10)\n"
   ]
  },
  {
   "cell_type": "markdown",
   "metadata": {},
   "source": [
    "### Sentiment Analysis of Retweets\n",
    "#### Pre-processing the data"
   ]
  },
  {
   "cell_type": "code",
   "execution_count": 53,
   "metadata": {},
   "outputs": [
    {
     "data": {
      "text/plain": [
       "['rt',\n",
       " '@cbs_herridge',\n",
       " 'read',\n",
       " 'letter',\n",
       " 'to',\n",
       " 'surveillance',\n",
       " 'court',\n",
       " 'obtained',\n",
       " 'by',\n",
       " 'cbs',\n",
       " 'news',\n",
       " 'questions',\n",
       " 'where',\n",
       " 'there',\n",
       " 'will',\n",
       " 'be',\n",
       " 'further',\n",
       " 'disciplinary',\n",
       " 'action',\n",
       " 'and',\n",
       " 'cho…',\n",
       " '17/01/2020',\n",
       " '03:22:47',\n",
       " 'rt',\n",
       " '@mzhemingway',\n",
       " 'very',\n",
       " 'friendly',\n",
       " 'telling',\n",
       " 'of',\n",
       " 'events',\n",
       " 'here',\n",
       " 'about',\n",
       " \"comey's\",\n",
       " 'apparent',\n",
       " 'leaking',\n",
       " 'to',\n",
       " 'compliant',\n",
       " 'media',\n",
       " 'if',\n",
       " 'you',\n",
       " 'read',\n",
       " 'those',\n",
       " 'articles',\n",
       " 'and',\n",
       " 'tho…',\n",
       " '17/01/2020',\n",
       " '13:13:59',\n",
       " 'rt',\n",
       " '@whitehouse',\n",
       " 'president']"
      ]
     },
     "execution_count": 53,
     "metadata": {},
     "output_type": "execute_result"
    }
   ],
   "source": [
    "# Split the retweets into a word list and filter the punctuation\n",
    "\n",
    "rdd_retweets_words = rdd_retweets.flatMap(split_with_multiple_separator).filter(lambda word: word!='' and word!='”' and word!='.')\n",
    "\n",
    "# Delete \"https\" contents of the retweets\n",
    "\n",
    "rdd_retweets_words = rdd_retweets_words.filter(lambda line: delhttps(line) != 1)\n",
    "\n",
    "# Transform all the words into lowercase\n",
    "\n",
    "rdd_retweets_words_lower = rdd_retweets_words.flatMap(lambda word:word.lower().split())\n",
    "rdd_retweets_words_lower.take(50)"
   ]
  },
  {
   "cell_type": "code",
   "execution_count": 54,
   "metadata": {},
   "outputs": [
    {
     "data": {
      "text/plain": [
       "[('rt', 1),\n",
       " ('@cbs_herridge', 1),\n",
       " ('read', 1),\n",
       " ('letter', 1),\n",
       " ('to', 1),\n",
       " ('surveillance', 1),\n",
       " ('court', 1),\n",
       " ('obtained', 1),\n",
       " ('by', 1),\n",
       " ('cbs', 1)]"
      ]
     },
     "execution_count": 54,
     "metadata": {},
     "output_type": "execute_result"
    }
   ],
   "source": [
    "# initialize an rdd with key/value for counting each word in the retweets \n",
    "\n",
    "rdd_retweets_words_kv = rdd_retweets_words_lower.map(lambda word: (word, 1))\n",
    "\n",
    "rdd_retweets_words_kv.take(10)"
   ]
  },
  {
   "cell_type": "markdown",
   "metadata": {},
   "source": [
    "### Top Positive Words of Retweets\n",
    "\n",
    "The top 25 positive words of retweets are mostly the same as original tweets. Except the following:  \n",
    "\n",
    "\n",
    "**'Support'** is used more frequently in retweets than in original tweets.  \n",
    "**'Wow'** and **'endorsement'** are on the list for original tweets but **not** on the list for retweets.  \n",
    "**'Incredible'** is **not** on the list for original tweets but on the list for retweets.\n",
    "\n",
    "In short, frequent **appreciation** to others can be seen in his retweets."
   ]
  },
  {
   "cell_type": "code",
   "execution_count": 55,
   "metadata": {},
   "outputs": [
    {
     "data": {
      "text/plain": [
       "[('right', 132), ('good', 117), ('like', 184), ('safe', 38), ('effective', 12)]"
      ]
     },
     "execution_count": 55,
     "metadata": {},
     "output_type": "execute_result"
    }
   ],
   "source": [
    "## Join the cleaned word list with the positive word list\n",
    "# Use the mapValues transformation to assign a default count of 1 for each positive word\n",
    "\n",
    "rdd_positive_words_rt_kv = rdd_retweets_words_kv.join(rdd_positive_words_kv).mapValues(lambda tuple: 1)\n",
    "\n",
    "## Count the number of occurences of each positive word in retweets\n",
    "\n",
    "rdd_positive_words_rt_count_kv = rdd_positive_words_rt_kv.reduceByKey(lambda x,y : x+y)\n",
    "\n",
    "rdd_positive_words_rt_count_kv.take(5)"
   ]
  },
  {
   "cell_type": "code",
   "execution_count": 56,
   "metadata": {},
   "outputs": [
    {
     "data": {
      "text/plain": [
       "[('trump', 1030),\n",
       " ('great', 415),\n",
       " ('thank', 279),\n",
       " ('like', 184),\n",
       " ('support', 156),\n",
       " ('right', 132),\n",
       " ('good', 117),\n",
       " ('work', 114),\n",
       " ('best', 107),\n",
       " ('win', 91),\n",
       " ('love', 85),\n",
       " ('strong', 84),\n",
       " ('thanks', 77),\n",
       " ('real', 74),\n",
       " ('incredible', 74),\n",
       " ('protect', 70),\n",
       " ('happy', 67),\n",
       " ('proud', 67),\n",
       " ('important', 65),\n",
       " ('approval', 64),\n",
       " ('honor', 63),\n",
       " ('better', 63),\n",
       " ('clear', 62),\n",
       " ('true', 55),\n",
       " ('well', 54)]"
      ]
     },
     "execution_count": 56,
     "metadata": {},
     "output_type": "execute_result"
    }
   ],
   "source": [
    "## Top 25 positive words of retweets\n",
    "\n",
    "rdd_positive_words_rt_count_kv_ordered = rdd_positive_words_rt_count_kv.sortBy(lambda tuple: tuple[1], ascending=False)\n",
    "\n",
    "list_top_positives_opinion_rt = rdd_positive_words_rt_count_kv_ordered.take(25)\n",
    "\n",
    "list_top_positives_opinion_rt"
   ]
  },
  {
   "cell_type": "markdown",
   "metadata": {},
   "source": [
    "### Top Negative Words of Retweets\n",
    "\n",
    "Interestingly, the top negative words show the differences between original tweets and retweets.  \n",
    "\n",
    "The top negative words for retweets seem to be more about refuting the accuses, for example, **'collusion'** ,**'impeach'**, **'sham'**, **'crisis'**, **'lies'**, **'corrupt'** whereas original tweets have no particular pattern of the negative words."
   ]
  },
  {
   "cell_type": "code",
   "execution_count": 57,
   "metadata": {},
   "outputs": [
    {
     "data": {
      "text/plain": [
       "[('dishonest', 8),\n",
       " ('lost', 35),\n",
       " ('fraud', 46),\n",
       " ('killed', 31),\n",
       " ('epidemic', 7)]"
      ]
     },
     "execution_count": 57,
     "metadata": {},
     "output_type": "execute_result"
    }
   ],
   "source": [
    "## Join the cleaned word list with the negative word list\n",
    "# Use the mapValues transformation to assign a default count of 1 for each negative word\n",
    "\n",
    "rdd_negative_words_rt_kv = rdd_retweets_words_kv.join(rdd_negative_words_kv).mapValues(lambda tuple:1)\n",
    "\n",
    "## Count the number of occurences of each negative word in retweets\n",
    "\n",
    "rdd_negative_words_rt_count_kv = rdd_negative_words_rt_kv.reduceByKey(lambda x,y: x+y)\n",
    "\n",
    "rdd_negative_words_rt_count_kv.take(5)"
   ]
  },
  {
   "cell_type": "code",
   "execution_count": 58,
   "metadata": {},
   "outputs": [
    {
     "data": {
      "text/plain": [
       "[('breaking', 138),\n",
       " ('fake', 92),\n",
       " ('radical', 65),\n",
       " ('collusion', 62),\n",
       " ('hard', 61),\n",
       " ('impeach', 51),\n",
       " ('sham', 50),\n",
       " ('crime', 50),\n",
       " ('illegal', 49),\n",
       " ('crisis', 48),\n",
       " ('hoax', 47),\n",
       " ('fraud', 46),\n",
       " ('abuse', 46),\n",
       " ('partisan', 46),\n",
       " ('critical', 46),\n",
       " ('bad', 45),\n",
       " ('attack', 44),\n",
       " ('wrong', 42),\n",
       " ('lies', 40),\n",
       " ('destroy', 38),\n",
       " ('false', 36),\n",
       " ('corrupt', 36),\n",
       " ('failed', 36),\n",
       " ('lost', 35),\n",
       " ('corruption', 33)]"
      ]
     },
     "execution_count": 58,
     "metadata": {},
     "output_type": "execute_result"
    }
   ],
   "source": [
    "## Top 25 negative words of retweets\n",
    "\n",
    "rdd_negative_words_rt_count_kv_ordered = rdd_negative_words_rt_count_kv.sortBy(lambda tuple: tuple[1], ascending=False)\n",
    "\n",
    "list_top_negatives_opinion_rt = rdd_negative_words_rt_count_kv_ordered.take(25)\n",
    "\n",
    "list_top_negatives_opinion_rt"
   ]
  },
  {
   "cell_type": "code",
   "execution_count": 59,
   "metadata": {},
   "outputs": [
    {
     "data": {
      "image/png": "[encoded data removed]",
      "text/plain": [
       "<Figure size 1080x576 with 1 Axes>"
      ]
     },
     "metadata": {
      "needs_background": "light"
     },
     "output_type": "display_data"
    }
   ],
   "source": [
    "## Plot of top positives and negatives words in Donald Trump's retweets\n",
    "\n",
    "plot_opinion(list_top_positives_opinion_rt, list_top_negatives_opinion_rt)"
   ]
  },
  {
   "cell_type": "markdown",
   "metadata": {},
   "source": [
    "**'Support'** and **'breaking'** come to the front of the list for retweets while the overall distribution of positive and negative words have no much difference from original tweets.   \n",
    "\n",
    "\n",
    "### Sentiment Score\n",
    "As indicated above, the retweets of Donald Trump are mainly positive as the overall sentiment score is positive."
   ]
  },
  {
   "cell_type": "code",
   "execution_count": 60,
   "metadata": {},
   "outputs": [
    {
     "name": "stdout",
     "output_type": "stream",
     "text": [
      "The sentiment score is :  2072\n"
     ]
    }
   ],
   "source": [
    "## Compute the global sentiment score\n",
    "\n",
    "# sentiment score = count of positive words used - count of negative words used\n",
    "sentiment_score_rt = rdd_positive_words_rt_count_kv.map(lambda tuple: tuple[1]).sum()\\\n",
    "                  - rdd_negative_words_rt_count_kv.map(lambda tuple: tuple[1]).sum()\n",
    "\n",
    "print('The sentiment score is : ',sentiment_score_rt)"
   ]
  },
  {
   "cell_type": "markdown",
   "metadata": {},
   "source": [
    "### Hot Topics of Retweets\n",
    "The hot topics of Donald Trump's retweets more or less the same as those of all tweets but cover **extra topics**( topics in **bold**) which are usually **current affairs** and **politics**.\n",
    "\n",
    "1) United States  \n",
    "   -  General  \n",
    "        - u.s\n",
    "        - america\n",
    "        - american\n",
    "        - united\n",
    "        - states\n",
    "        - today - Report/ share the thing happened on that day\n",
    "        - news  - Share the news/ breaking\n",
    "        - people\n",
    "        - national\n",
    "        \n",
    "        \n",
    "   - 2016 Presidential Election  \n",
    "        - vote\n",
    "        - election\n",
    "        - hillary - Hillary Clinton, democrat, candidate of 2016 Presidential Election\n",
    "        - clinton - Same as above / the Clinton Family\n",
    "        - campaign\n",
    "        - america\n",
    "        - state  - Probably about the campaign in a particular state, e.g. Iowa, Florida\n",
    "        - 2016   - Election year\n",
    "        - interview - Interviews with different media or interview somebody\n",
    "        - history - Probably refer to make America great again in history\n",
    "        - media - Could be the effect of media on the US Presidential election\n",
    "        \n",
    "        \n",
    "   - 2020 Presidential Election\n",
    "        - joe - Joe Biden , democrat, candidate of 2020 Presidential Election\n",
    "        - biden - Same as above\n",
    "        - vote\n",
    "        - election\n",
    "    \n",
    "    \n",
    "   - Politics\n",
    "        - president - Could be about himself or about the former President Obama\n",
    "        - house     - Refering to White House\n",
    "        - democrats - one of the two main political parties in U.S ( his opponents)\n",
    "        - dems      - Same as above\n",
    "        - republicans - one of the two main political parties in U.S (himself)\n",
    "        - party       - Political parties\n",
    "        - impeachment - The impeachment of Donald Trump in 2019 and 2020\n",
    "        - joe - Joe Biden , member of the Democratic Party, the 47th vice president during the Obama administration from 2009 to 2017\n",
    "        - biden - same as above\n",
    "        - **senate** - The United States Senate, the upper chamber of the United States Congress\n",
    "        - **congress** - the United States Congress\n",
    "        - **pelosi** - Nancy Pelosi, Speaker of the United States House of Representatives since 2019\n",
    "        - **adam** - Adam Schiff, U.S. Representative for California's 28th congressional district since 2013\n",
    "        - **schiff** - Same as above \n",
    "        \n",
    "        \n",
    "   - Current Affairs  \n",
    "        - **coronavirus**\n",
    "        - **05/06/2020** - Probably about the announcement of surprising job gains during the pandemic\n",
    "        - **fbi** - The Federal Bureau of Investigation\n",
    "        - **court** - Probably about his lawsuits about his business failures, successes, and personality,etc.\n",
    "        - **law**\n",
    "    \n",
    "2) Economy  \n",
    "   - jobs  \n",
    "   - economy  \n",
    "   - money\n",
    "   - business\n",
    "    \n",
    "    \n",
    "3) International Politics  \n",
    "   - border - The border of U.S and Mexico  \n",
    "   - china - The trade war and relationship with China  \n",
    "   - u.s  \n",
    "   - military  - Military policy/ spending bill\n",
    "   - deal - Deal with Middle East and other countries  \n",
    "   - world  \n",
    "    "
   ]
  },
  {
   "cell_type": "code",
   "execution_count": 61,
   "metadata": {},
   "outputs": [],
   "source": [
    "## Get the contextual words\n",
    "\n",
    "contextual_words_rt = rdd_retweets_words_lower.subtract(rdd_positive_words).subtract(rdd_negative_words).subtract(rdd_stop_words)\\\n",
    "                        .subtract(references.map(lambda word:word.lower())).subtract(hashtags)\n"
   ]
  },
  {
   "cell_type": "code",
   "execution_count": 62,
   "metadata": {},
   "outputs": [
    {
     "data": {
      "text/plain": [
       "[('president', 1454),\n",
       " ('democrats', 488),\n",
       " ('biden', 394),\n",
       " ('american', 392),\n",
       " ('new', 385),\n",
       " ('people', 384),\n",
       " ('today', 366),\n",
       " ('impeachment', 328),\n",
       " ('america', 296),\n",
       " ('joe', 284),\n",
       " ('news', 258),\n",
       " ('house', 257),\n",
       " ('media', 232),\n",
       " ('senate', 215),\n",
       " ('time', 206),\n",
       " ('vote', 198),\n",
       " ('live', 191),\n",
       " ('years', 185),\n",
       " ('fbi', 180),\n",
       " ('election', 175),\n",
       " ('country', 175),\n",
       " ('americans', 170),\n",
       " ('obama', 166),\n",
       " ('coronavirus', 160),\n",
       " ('schiff', 160),\n",
       " ('state', 155),\n",
       " ('national', 147),\n",
       " ('u.s', 146),\n",
       " ('states', 142),\n",
       " ('big', 140),\n",
       " ('economy', 134),\n",
       " ('united', 132),\n",
       " ('jobs', 129),\n",
       " ('help', 125),\n",
       " ('pelosi', 123),\n",
       " ('report', 123),\n",
       " ('republican', 122),\n",
       " ('need', 121),\n",
       " ('dems', 117),\n",
       " ('court', 117),\n",
       " ('campaign', 116),\n",
       " ('border', 115),\n",
       " ('party', 110),\n",
       " ('congress', 109),\n",
       " ('history', 108),\n",
       " ('democrat', 108),\n",
       " ('law', 108),\n",
       " ('05/06/2020', 103),\n",
       " ('million', 101),\n",
       " ('adam', 101)]"
      ]
     },
     "execution_count": 62,
     "metadata": {},
     "output_type": "execute_result"
    }
   ],
   "source": [
    "## Top 50 Contextual Words/ Hot Topics\n",
    "\n",
    "contextual_words_count_ordered_rt = contextual_words_rt.map(lambda word: (word, 1))\\\n",
    "                                                 .reduceByKey(lambda x,y : x+y)\\\n",
    "                                                 .sortBy(lambda tuple: tuple[1], ascending=False)\n",
    "\n",
    "list_top_contextual_words_rt = contextual_words_count_ordered_rt.take(50)  \n",
    "\n",
    "list_top_contextual_words_rt"
   ]
  },
  {
   "cell_type": "code",
   "execution_count": 63,
   "metadata": {},
   "outputs": [
    {
     "data": {
      "image/png": "[encoded data removed]",
      "text/plain": [
       "<Figure size 1080x576 with 1 Axes>"
      ]
     },
     "metadata": {
      "needs_background": "light"
     },
     "output_type": "display_data"
    }
   ],
   "source": [
    "## Plot of Top 50 Contextual Words in Donald Trump's tweets\n",
    "\n",
    "plot_contextual_words(list_top_contextual_words_rt)"
   ]
  },
  {
   "cell_type": "markdown",
   "metadata": {},
   "source": [
    "The usage of **'president'** is almost five times of that of other contextual words, followed by **'democrats'** and **'Biden'** which could be the opinions to his opponents."
   ]
  },
  {
   "cell_type": "markdown",
   "metadata": {},
   "source": [
    "# 5) Anaylsis of Tweet per year\n",
    "\n",
    "In this section, we will focus on the contextual words/ hot topics of Donald Trump's tweets only.\n"
   ]
  },
  {
   "cell_type": "markdown",
   "metadata": {},
   "source": [
    "### The number of Donald Trump's tweets in each year from 2009- 2020\n",
    "We can see that Donald Trump was not very active in early years until 2012. Therefore, our analysis will focus on the tweets after 2012.\n",
    "\n",
    "There are over **11 thousands of tweets** in **2020**, **triple** of the amount of tweets in 2012. His uses of Twitters has been increasing even though there are fluctuations between 2012 and 2020."
   ]
  },
  {
   "cell_type": "code",
   "execution_count": 64,
   "metadata": {
    "scrolled": true
   },
   "outputs": [
    {
     "name": "stdout",
     "output_type": "stream",
     "text": [
      "The number of tweets in  2009  :  56\n",
      "The number of tweets in  2010  :  142\n",
      "The number of tweets in  2011  :  773\n",
      "The number of tweets in  2012  :  3531\n",
      "The number of tweets in  2013  :  8144\n",
      "The number of tweets in  2014  :  5784\n",
      "The number of tweets in  2015  :  7536\n",
      "The number of tweets in  2016  :  4228\n",
      "The number of tweets in  2017  :  2604\n",
      "The number of tweets in  2018  :  3569\n",
      "The number of tweets in  2019  :  7818\n",
      "The number of tweets in  2020  :  11337\n"
     ]
    }
   ],
   "source": [
    "for y in range(2009,2021):\n",
    "    year = '/' + str(y)\n",
    "    print ('The number of tweets in ', y , ' : ' , rdd_tweets.filter(lambda line : re.search(year,line)).count())"
   ]
  },
  {
   "cell_type": "markdown",
   "metadata": {},
   "source": [
    "### 2012 - Hot Topics\n",
    "\n",
    "In 2012, the tweets of Donald Trump are mostly about economy and Former President Obama's policies:\n",
    "\n",
    "\n",
    "1) Economy :  \n",
    "\n",
    "   - jobs  \n",
    "   - money  \n",
    "   - economy  \n",
    "   - unemployment  \n",
    "   - gas  \n",
    "   - oil  \n",
    "    \n",
    "    \n",
    "2) Obama's Policies :  \n",
    "\n",
    "   - president  \n",
    "   - obama  \n",
    "   - obama's  \n",
    "   - tax  \n",
    "   - obamacare  \n",
    "   - government  \n",
    "\n",
    "\n",
    "3) Politics :\n",
    "\n",
    "   - election - Probably refer to 2012 Presidential Election  \n",
    "   - chinese  \n",
    "   - discussing  \n",
    "   - gas  \n",
    "   - oil      \n",
    "   - debate  \n",
    "   - interview  "
   ]
  },
  {
   "cell_type": "code",
   "execution_count": 65,
   "metadata": {
    "scrolled": true
   },
   "outputs": [],
   "source": [
    "# Split the original tweets into a word list and filter the punctuation\n",
    "rdd_tweets_2012 = rdd_tweets.filter(lambda line : re.search('/2012',line))\\\n",
    "                    .flatMap(split_with_multiple_separator).filter(lambda word: word!='' and word!='”' and word!='.')\\\n",
    "                    .filter(lambda line: delhttps(line) != 1).flatMap(lambda word:word.lower().split())\n",
    "\n",
    "## Get the contextual words\n",
    "contextual_words_2012 = rdd_tweets_2012.subtract(rdd_positive_words).subtract(rdd_negative_words).subtract(rdd_stop_words)\\\n",
    "                    .subtract(references).subtract(hashtags)\n"
   ]
  },
  {
   "cell_type": "code",
   "execution_count": 66,
   "metadata": {},
   "outputs": [
    {
     "data": {
      "text/plain": [
       "[('obama', 345),\n",
       " ('china', 167),\n",
       " ('interview', 130),\n",
       " ('people', 121),\n",
       " ('new', 117),\n",
       " ('time', 116),\n",
       " ('discussing', 103),\n",
       " ('president', 97),\n",
       " ('america', 86),\n",
       " ('country', 76),\n",
       " ('deal', 76),\n",
       " ('job', 75),\n",
       " ('big', 74),\n",
       " ('record', 68),\n",
       " ('election', 68),\n",
       " ('jobs', 67),\n",
       " (\"obama's\", 65),\n",
       " ('need', 63),\n",
       " ('17/10/2012', 63),\n",
       " ('money', 62),\n",
       " ('world', 61),\n",
       " ('years', 60),\n",
       " ('gas', 60),\n",
       " ('today', 56),\n",
       " ('season', 55),\n",
       " ('06/12/2012', 53),\n",
       " ('year', 53),\n",
       " ('tax', 52),\n",
       " ('million', 52),\n",
       " ('26/10/2012', 51),\n",
       " ('national', 51),\n",
       " ('american', 50),\n",
       " ('economy', 49),\n",
       " ('obamacare', 49),\n",
       " ('golf', 48),\n",
       " ('debate', 47),\n",
       " ('convention', 47),\n",
       " (\"doesn't\", 46),\n",
       " ('campaign', 45),\n",
       " ('oil', 45),\n",
       " ('19/10/2012', 45),\n",
       " ('2012', 44),\n",
       " ('yesterday', 44),\n",
       " ('hope', 43),\n",
       " ('unemployment', 43),\n",
       " ('wants', 43),\n",
       " ('stop', 43),\n",
       " ('chinese', 43),\n",
       " ('records', 43),\n",
       " ('government', 42)]"
      ]
     },
     "execution_count": 66,
     "metadata": {},
     "output_type": "execute_result"
    }
   ],
   "source": [
    "## Top 50 Contextual Words/ Hot Topics of 2012\n",
    "\n",
    "contextual_words_2012_ordered = contextual_words_2012.map(lambda word: (word, 1))\\\n",
    "                                                 .reduceByKey(lambda x,y : x+y)\\\n",
    "                                                 .sortBy(lambda tuple: tuple[1], ascending=False)\n",
    "\n",
    "contextual_words_2012_ordered.take(50)  \n"
   ]
  },
  {
   "cell_type": "markdown",
   "metadata": {},
   "source": [
    "### 2013 - Hot Topics\n",
    "In 2013, the hot topics are similar to the previous year except he alos tweets about his personal life/ leisure this year. The hot topics of 2013 can be categorized as 3 areas :\n",
    "\n",
    "1) Politics :\n",
    "- obama\n",
    "- president\n",
    "- obamacare\n",
    "- world\n",
    "- country\n",
    "- china\n",
    "- deal \n",
    "- scotland\n",
    "- u.s\n",
    "- syria\n",
    "- ties\n",
    "\n",
    "2) Economy : \n",
    "- money\n",
    "- business\n",
    "\n",
    "\n",
    "3) Entertainments/Leisure/Personal business :\n",
    "- golf\n",
    "- apprentice - His TV shows\n",
    "- celebrity - His TV shows\n",
    "- life\n",
    "- birthday\n",
    "- hotel - His hotel (Trump International Hotel)\n",
    "- doral - Trump attended World Golf Championship Cadillac Championship in Doral, Florida"
   ]
  },
  {
   "cell_type": "code",
   "execution_count": 67,
   "metadata": {},
   "outputs": [],
   "source": [
    "# Split the original tweets into a word list and filter the punctuation\n",
    "rdd_tweets_2013 = rdd_tweets.filter(lambda line : re.search('/2013',line))\\\n",
    "                    .flatMap(split_with_multiple_separator).filter(lambda word: word!='' and word!='”' and word!='.')\\\n",
    "                    .filter(lambda line: delhttps(line) != 1).flatMap(lambda word:word.lower().split())\n",
    "\n",
    "## Get the contextual words\n",
    "contextual_words_2013 = rdd_tweets_2013.subtract(rdd_positive_words).subtract(rdd_negative_words).subtract(rdd_stop_words)\\\n",
    "                    .subtract(references).subtract(hashtags)"
   ]
  },
  {
   "cell_type": "code",
   "execution_count": 68,
   "metadata": {},
   "outputs": [
    {
     "data": {
      "text/plain": [
       "[('people', 329),\n",
       " ('obama', 291),\n",
       " ('president', 271),\n",
       " ('time', 255),\n",
       " ('big', 241),\n",
       " ('new', 240),\n",
       " ('country', 193),\n",
       " ('obamacare', 162),\n",
       " ('job', 137),\n",
       " ('need', 133),\n",
       " ('golf', 126),\n",
       " ('apprentice', 119),\n",
       " ('course', 119),\n",
       " ('money', 117),\n",
       " ('yes', 115),\n",
       " ('world', 115),\n",
       " ('thanks.', 113),\n",
       " ('man', 111),\n",
       " ('business', 107),\n",
       " ('today', 107),\n",
       " ('deal', 104),\n",
       " ('hope', 103),\n",
       " ('china', 103),\n",
       " ('27/02/2013', 100),\n",
       " ('celebrity', 99),\n",
       " ('24/07/2013', 95),\n",
       " ('2016', 92),\n",
       " ('years', 90),\n",
       " ('america', 86),\n",
       " ('interview', 86),\n",
       " ('28/03/2013', 84),\n",
       " ('19/03/2013', 82),\n",
       " ('needs', 81),\n",
       " ('wind', 79),\n",
       " ('ties', 77),\n",
       " ('scotland', 77),\n",
       " ('u.s', 75),\n",
       " ('year', 73),\n",
       " ('national', 71),\n",
       " ('hotel', 69),\n",
       " ('agree', 69),\n",
       " ('syria', 69),\n",
       " ('24/04/2013', 68),\n",
       " ('doral', 68),\n",
       " ('24/05/2013', 68),\n",
       " ('life', 67),\n",
       " ('18/10/2013', 67),\n",
       " ('birthday', 67),\n",
       " ('sure', 66),\n",
       " ('13/02/2013', 65)]"
      ]
     },
     "execution_count": 68,
     "metadata": {},
     "output_type": "execute_result"
    }
   ],
   "source": [
    "## Top 50 Contextual Words/ Hot Topics of 2013\n",
    "\n",
    "\n",
    "contextual_words_2013_ordered = contextual_words_2013.map(lambda word: (word, 1))\\\n",
    "                                                 .reduceByKey(lambda x,y : x+y)\\\n",
    "                                                 .sortBy(lambda tuple: tuple[1], ascending=False)\n",
    "\n",
    "contextual_words_2013_ordered.take(50)  "
   ]
  },
  {
   "cell_type": "markdown",
   "metadata": {},
   "source": [
    "### 2014 - Hot Topics\n",
    "\n",
    "In 2014, Donald Trump has more focuses on politics and disputes around him rather than economy. The hot topics can be categorized as 3 areas : \n",
    "\n",
    "1) Politics/ Current Affairs :\n",
    "- obama\n",
    "- president\n",
    "- obamacare\n",
    "- world\n",
    "- country\n",
    "- china\n",
    "- deal \n",
    "- scotland\n",
    "- u.s\n",
    "- iraq\n",
    "- ties\n",
    "- needs\n",
    "- **leader**\n",
    "- **ebola** -  Public Health Emergency of International Concern was declared on Ebola in 2014\n",
    "- **Disputes** :\n",
    "    - **entrepreneurs** - Court case : People v Trump **Entrepreneur** Initiative LLC\n",
    "    - **chicago** - a war of words between Trump and Chicago Mayor Rahm Emanuel for the letter sign on Donald Trump's skyscraper in Chicago\n",
    "    - **sign** - Same as above\n",
    "    - **building** - Same as above\n",
    "\n",
    "- **2016 Presidential Election** :\n",
    "\t- 2016\n",
    "\t- vote\n",
    "    \n",
    "    \n",
    "2) Economy : \n",
    "- business\n",
    "\n",
    "\n",
    "3) Entertainments/Leisure/Personal Business :\n",
    "- apprentice - His TV shows\n",
    "- celebrity - His TV shows\n",
    "- art\n",
    "- golf\n",
    "- hotel - His hotel (Trump International Hotel)\n"
   ]
  },
  {
   "cell_type": "code",
   "execution_count": 69,
   "metadata": {},
   "outputs": [],
   "source": [
    "# Split the original tweets into a word list and filter the punctuation\n",
    "rdd_tweets_2014 = rdd_tweets.filter(lambda line : re.search('/2014',line))\\\n",
    "                    .flatMap(split_with_multiple_separator).filter(lambda word: word!='' and word!='”' and word!='.')\\\n",
    "                    .filter(lambda line: delhttps(line) != 1).flatMap(lambda word:word.lower().split())\n",
    "\n",
    "## Get the contextual words\n",
    "contextual_words_2014 = rdd_tweets_2014.subtract(rdd_positive_words).subtract(rdd_negative_words).subtract(rdd_stop_words)\\\n",
    "                    .subtract(references).subtract(hashtags)\n"
   ]
  },
  {
   "cell_type": "code",
   "execution_count": 70,
   "metadata": {
    "scrolled": false
   },
   "outputs": [
    {
     "data": {
      "text/plain": [
       "[('president', 585),\n",
       " ('obama', 304),\n",
       " ('country', 226),\n",
       " ('need', 218),\n",
       " ('new', 212),\n",
       " ('vote', 195),\n",
       " ('people', 187),\n",
       " ('thanks.', 168),\n",
       " ('course', 163),\n",
       " ('golf', 160),\n",
       " ('2016', 160),\n",
       " ('time', 153),\n",
       " ('man', 141),\n",
       " ('world', 127),\n",
       " ('america', 123),\n",
       " ('business', 122),\n",
       " ('big', 122),\n",
       " ('needs', 112),\n",
       " ('hotel', 102),\n",
       " ('today', 91),\n",
       " ('agree', 91),\n",
       " ('u.s', 90),\n",
       " ('job', 89),\n",
       " ('ebola', 89),\n",
       " ('deal', 89),\n",
       " ('17/06/2014', 88),\n",
       " ('sign', 85),\n",
       " ('obamacare', 85),\n",
       " ('hope', 82),\n",
       " ('leader', 82),\n",
       " ('chicago', 80),\n",
       " ('entrepreneurs', 79),\n",
       " ('apprentice', 75),\n",
       " ('wait', 74),\n",
       " ('stop', 73),\n",
       " ('looks', 73),\n",
       " ('years', 72),\n",
       " ('building', 66),\n",
       " ('interview', 64),\n",
       " ('office', 62),\n",
       " ('03/12/2014', 62),\n",
       " ('year', 61),\n",
       " ('american', 61),\n",
       " ('15/06/2014', 58),\n",
       " ('stay', 58),\n",
       " ('scotland', 57),\n",
       " ('art', 57),\n",
       " ('place', 56),\n",
       " ('03/03/2014', 54),\n",
       " ('iraq', 54)]"
      ]
     },
     "execution_count": 70,
     "metadata": {},
     "output_type": "execute_result"
    }
   ],
   "source": [
    "## Top 50 Contextual Words/ Hot Topics of 2014\n",
    "\n",
    "contextual_words_2014_ordered = contextual_words_2014.map(lambda word: (word, 1))\\\n",
    "                                                 .reduceByKey(lambda x,y : x+y)\\\n",
    "                                                 .sortBy(lambda tuple: tuple[1], ascending=False)\n",
    "\n",
    "contextual_words_2014_ordered.take(50)  "
   ]
  },
  {
   "cell_type": "markdown",
   "metadata": {},
   "source": [
    "### 2015 - Hot Topics\n",
    "\n",
    "\n",
    "\n",
    "In 2015, Donald Trump has more focuses on 2016 Presidential Election and disputes around him. There are almost no personal life and economy topics. The hot topics can be categorized as 3 areas : \n",
    "\n",
    "1) Politics/ Current Affairs :\n",
    "- obama\n",
    "- president\n",
    "- obamacare\n",
    "- world\n",
    "- country\n",
    "- deal \n",
    "- u.s\n",
    "- gop - Republican Party\n",
    "- needs\n",
    "\n",
    "- **Disputes** :\n",
    "    - **entrepreneurs** - Court case : People v Trump **Entrepreneur** Initiative LLC\n",
    "    - **truth**\n",
    "\n",
    "\n",
    "- **2016 Presidential Election** :\n",
    "\t- 2016\n",
    "\t- vote\n",
    "\t- poll\n",
    "\t- **polls**\n",
    "\t- **live**\n",
    "\t- talk\n",
    "\t- **speech**\n",
    "\t- debate\n",
    "\t- interview\n",
    "\t- **hillary**\n",
    "\t- donaldtrump\n",
    "\t- **jeb**\t- Jeb Bush, a Republican nominee for 2016 Presidential Election, he has dedates with Donald Trump\n",
    "\t- **bush**\t- Same as above\n",
    "\t- **candidate** \n",
    "\t- iowa  - Probably the campaign rally in Iowa\n",
    "\t- **crowd** - supporters of Donald Trump in the campaign rally    - \n",
    "    \n",
    "2) Economy : \n",
    "- business\n",
    "- money\n",
    "\n",
    "\n",
    "3) Entertainments/Leisure :\n",
    "- apprentice - His TV shows\n"
   ]
  },
  {
   "cell_type": "code",
   "execution_count": 71,
   "metadata": {},
   "outputs": [],
   "source": [
    "# Split the original tweets into a word list and filter the punctuation\n",
    "rdd_tweets_2015 = rdd_tweets.filter(lambda line : re.search('/2015',line))\\\n",
    "                    .flatMap(split_with_multiple_separator).filter(lambda word: word!='' and word!='”' and word!='.')\\\n",
    "                    .filter(lambda line: delhttps(line) != 1).flatMap(lambda word:word.lower().split())\n",
    "\n",
    "## Get the contextual words\n",
    "contextual_words_2015 = rdd_tweets_2015.subtract(rdd_positive_words).subtract(rdd_negative_words).subtract(rdd_stop_words)\\\n",
    "                    .subtract(references).subtract(hashtags)\n"
   ]
  },
  {
   "cell_type": "code",
   "execution_count": 72,
   "metadata": {},
   "outputs": [
    {
     "data": {
      "text/plain": [
       "[('president', 514),\n",
       " ('america', 478),\n",
       " ('people', 318),\n",
       " ('need', 290),\n",
       " ('new', 289),\n",
       " ('country', 287),\n",
       " ('time', 249),\n",
       " ('vote', 247),\n",
       " ('poll', 214),\n",
       " ('big', 167),\n",
       " ('05/01/2015', 160),\n",
       " ('needs', 150),\n",
       " ('2016', 146),\n",
       " ('hope', 141),\n",
       " ('man', 133),\n",
       " ('job', 132),\n",
       " ('debate', 131),\n",
       " ('hillary', 131),\n",
       " ('wait', 128),\n",
       " ('jeb', 128),\n",
       " ('donaldtrump', 128),\n",
       " ('obama', 126),\n",
       " ('entrepreneurs', 122),\n",
       " ('apprentice', 120),\n",
       " ('06/01/2015', 118),\n",
       " ('bush', 112),\n",
       " ('iowa', 109),\n",
       " ('today', 107),\n",
       " ('interview', 103),\n",
       " ('12/04/2015', 102),\n",
       " ('live', 96),\n",
       " ('american', 93),\n",
       " ('polls', 93),\n",
       " ('thanks.', 92),\n",
       " ('deal', 91),\n",
       " ('candidate', 90),\n",
       " ('27/01/2015', 90),\n",
       " ('tomorrow', 90),\n",
       " ('business', 89),\n",
       " ('watching', 89),\n",
       " ('gop', 88),\n",
       " ('10/02/2015', 88),\n",
       " ('talk', 86),\n",
       " ('money', 83),\n",
       " ('crowd', 82),\n",
       " ('truth', 82),\n",
       " ('campaign', 81),\n",
       " ('speech', 81),\n",
       " ('20/01/2015', 80),\n",
       " ('14/10/2015', 79)]"
      ]
     },
     "execution_count": 72,
     "metadata": {},
     "output_type": "execute_result"
    }
   ],
   "source": [
    "## Top 50 Contextual Words/ Hot Topics of 2015\n",
    "\n",
    "contextual_words_2015_ordered = contextual_words_2015.map(lambda word: (word, 1))\\\n",
    "                                                 .reduceByKey(lambda x,y : x+y)\\\n",
    "                                                 .sortBy(lambda tuple: tuple[1], ascending=False)\n",
    "\n",
    "contextual_words_2015_ordered.take(50)  "
   ]
  },
  {
   "cell_type": "markdown",
   "metadata": {},
   "source": [
    "### 2016 - Hot Topics\n",
    "\n",
    "Donald Trump's 2016 tweets all basically about **2016 Presidential Election and politics**. There are almost no personal life and economy topics.\n",
    "\n",
    "\n",
    "1) Politics/ Current Affairs :\n",
    "- obama\n",
    "- president\n",
    "- republican\n",
    "- u.s\n",
    "\n",
    "\n",
    "2) **2016 Presidential Election** :\n",
    "\n",
    "- media\n",
    "- president\n",
    "- election\n",
    "- jobs\n",
    "- vote\n",
    "- poll\n",
    "- polls\t\n",
    "- **speech**\n",
    "- debate\n",
    "- **rally**\n",
    "- campaign\n",
    "- interviewed\n",
    "- **Candidate** :\n",
    "\t- hillary - Hillary Clinton, a **Democrat** candidate of 2016 Presidential Election\n",
    "\t- clinton - Same as above\n",
    "\t- bernie - Bernie Sanders, sought the **Democratic** Party's nomination in a field of six major candidates \n",
    "\t- ted - Ted Cruz, the runner-up for the **Republican** presidential nomination in the 2016 election\n",
    "\t- cruz - Same as above\n",
    "\t- rubio - Marco Rubio, sought the **Republican** nomination for president of the United States in 2016\n",
    "\t- candidate \n",
    "\n",
    "- **Swing States** :\n",
    "\t- iowa  \n",
    "\t- florida \n",
    "\t- carolina - North Carolina\n",
    "\t- pennsylvania \n",
    "    - **hampshire** - New Hampshire, won by Hillary Clinton and an 0.4% margin, the second closest percentage behind Michigan\n",
    "- crowd - supporters of Donald Trump in the campaign rally\n",
    "- **supportors**"
   ]
  },
  {
   "cell_type": "code",
   "execution_count": 73,
   "metadata": {},
   "outputs": [],
   "source": [
    "# Split the original tweets into a word list and filter the punctuation\n",
    "rdd_tweets_2016 = rdd_tweets.filter(lambda line : re.search('/2016',line))\\\n",
    "                    .flatMap(split_with_multiple_separator).filter(lambda word: word!='' and word!='”' and word!='.')\\\n",
    "                    .filter(lambda line: delhttps(line) != 1).flatMap(lambda word:word.lower().split())\n",
    "\n",
    "## Get the contextual words\n",
    "contextual_words_2016 = rdd_tweets_2016.subtract(rdd_positive_words).subtract(rdd_negative_words).subtract(rdd_stop_words)\\\n",
    "                    .subtract(references).subtract(hashtags.map(lambda word:word.lower()))\n",
    "\n"
   ]
  },
  {
   "cell_type": "code",
   "execution_count": 74,
   "metadata": {},
   "outputs": [
    {
     "data": {
      "text/plain": [
       "[('hillary', 449),\n",
       " ('america', 282),\n",
       " ('people', 274),\n",
       " ('clinton', 262),\n",
       " ('new', 238),\n",
       " ('cruz', 182),\n",
       " ('join', 176),\n",
       " ('vote', 175),\n",
       " ('big', 163),\n",
       " ('today', 144),\n",
       " ('president', 136),\n",
       " ('time', 130),\n",
       " ('ted', 125),\n",
       " ('country', 115),\n",
       " ('tomorrow', 108),\n",
       " ('media', 102),\n",
       " ('poll', 100),\n",
       " ('campaign', 97),\n",
       " ('jobs', 88),\n",
       " ('20/10/2016', 87),\n",
       " ('ohio', 86),\n",
       " ('iowa', 83),\n",
       " ('speech', 83),\n",
       " ('florida', 78),\n",
       " ('rally', 78),\n",
       " ('carolina', 78),\n",
       " ('job', 76),\n",
       " ('obama', 76),\n",
       " ('debate', 74),\n",
       " ('american', 74),\n",
       " ('rubio', 72),\n",
       " ('republican', 72),\n",
       " ('bernie', 72),\n",
       " ('state', 71),\n",
       " ('interviewed', 70),\n",
       " ('crowd', 68),\n",
       " ('10/10/2016', 62),\n",
       " ('05/10/2016', 60),\n",
       " ('u.s', 59),\n",
       " ('hampshire', 59),\n",
       " ('polls', 58),\n",
       " ('years', 57),\n",
       " ('supporters', 55),\n",
       " ('election', 54),\n",
       " ('pennsylvania', 52),\n",
       " ('27/09/2016', 51),\n",
       " ('women', 50),\n",
       " ('states', 50),\n",
       " ('special', 50),\n",
       " ('wants', 50)]"
      ]
     },
     "execution_count": 74,
     "metadata": {},
     "output_type": "execute_result"
    }
   ],
   "source": [
    "## Top 50 Contextual Words/ Hot Topics of 2016\n",
    "\n",
    "contextual_words_2016_ordered = contextual_words_2016.map(lambda word: (word, 1))\\\n",
    "                                                 .reduceByKey(lambda x,y : x+y)\\\n",
    "                                                 .sortBy(lambda tuple: tuple[1], ascending=False)\n",
    "\n",
    "contextual_words_2016_ordered.take(50) "
   ]
  },
  {
   "cell_type": "markdown",
   "metadata": {},
   "source": [
    "### 2017 - Hot Topics\n",
    "\n",
    "\n",
    "Donald Trump's 2017 tweets all basically about **international politics** and his **policies**, 2016 Presidential Election becomes an inferior topic. \n",
    "The hot topics can be categorized as 3 areas : \n",
    "\n",
    "1) Politics/ Policies :\n",
    "- Politics :\n",
    "\t- president\n",
    "\t- republican\n",
    "\t- republicans\n",
    "\t- democrats\n",
    "\t- dems\n",
    "\t- white - White House\n",
    "\t- house - White House\n",
    "\t- senate\n",
    "\t- obama\n",
    "- Policies :\n",
    "\t- healthcare - federal health law changes under President Trump\n",
    "\t- obamacare - Donald Trump replaces President Obama's signature health law\n",
    "\t- bill\t- [bills Trump signed into law in his first year as President](https://edition.cnn.com/2017/06/29/politics/president-trump-legislation/index.html)\n",
    "\t- cuts - Tax Cuts and Jobs Act(TCJA) of 2017 signed into law by President Donald Trump\n",
    "\t- jobs - Same as above, cuts the corporate tax rate to increase job opportunities\n",
    "\t- tax -  TCJA made several significant changes to the individual income tax in 2017 \n",
    "\t- market - Impact on stock market : S&P 500 index has climbed 23% since Trump entered the White House\n",
    "\t\n",
    "\n",
    "2) **International Politics** :\n",
    "- **north** - North Korea, 2017–2018 North Korea crisis as North Korea conducted a series of missile and nuclear tests \n",
    "- **korea** - Same as above\n",
    "- military - Trump Seeks 30 Billion dollar more in Fiscal 2017 to rebuild Military to fight **ISIS**\n",
    "- national - [2017 National Security Strategy of the United States of America](https://ge.usembassy.gov/2017-national-security-strategy-united-states-america-president/) \n",
    "- security - Same as above\n",
    "- **border** - Donald Trump signs order to begin **Mexico border wall** in immigration crackdown\n",
    "- **china** -  the Trump administration has concentrated on two issues in its relationship with China: **North Korea and trade**\n",
    "- **russia** - Trump, Russia, and collusion in 2017\n",
    "- **meeting** - Undisclosed second meeting with Putin in July 2017\n",
    "- deal - US-Saudi Arabia seal weapons deal worth nearly 110 billion USD immediately, 350 billion USD over 10 years\n",
    "\n",
    "\n",
    "3) 2016 Presidential Election :\n",
    "\n",
    "- hillary - Hillary Clinton, a Democrat candidate of 2016 Presidential Election\n",
    "- clinton - Same as above\n"
   ]
  },
  {
   "cell_type": "code",
   "execution_count": 75,
   "metadata": {},
   "outputs": [],
   "source": [
    "# Split the original tweets into a word list and filter the punctuation\n",
    "rdd_tweets_2017 = rdd_tweets.filter(lambda line : re.search('/2017',line))\\\n",
    "                    .flatMap(split_with_multiple_separator).filter(lambda word: word!='' and word!='”' and word!='.')\\\n",
    "                    .filter(lambda line: delhttps(line) != 1).flatMap(lambda word:word.lower().split())\n",
    "\n",
    "## Get the contextual words\n",
    "contextual_words_2017 = rdd_tweets_2017.subtract(rdd_positive_words).subtract(rdd_negative_words).subtract(rdd_stop_words)\\\n",
    "                    .subtract(references).subtract(hashtags.map(lambda word:word.lower()))\n",
    "\n"
   ]
  },
  {
   "cell_type": "code",
   "execution_count": 76,
   "metadata": {},
   "outputs": [
    {
     "data": {
      "text/plain": [
       "[('news', 203),\n",
       " ('people', 202),\n",
       " ('today', 164),\n",
       " ('big', 162),\n",
       " ('tax', 152),\n",
       " ('america', 151),\n",
       " ('president', 147),\n",
       " ('u.s', 135),\n",
       " ('country', 130),\n",
       " ('american', 125),\n",
       " ('jobs', 125),\n",
       " ('media', 108),\n",
       " ('time', 104),\n",
       " ('new', 102),\n",
       " ('democrats', 87),\n",
       " ('years', 86),\n",
       " ('house', 81),\n",
       " ('national', 76),\n",
       " ('election', 75),\n",
       " ('cuts', 74),\n",
       " ('united', 74),\n",
       " ('russia', 74),\n",
       " ('healthcare', 72),\n",
       " ('obamacare', 70),\n",
       " ('korea', 68),\n",
       " ('military', 66),\n",
       " ('vote', 66),\n",
       " ('north', 65),\n",
       " ('republicans', 64),\n",
       " ('dems', 63),\n",
       " ('states', 62),\n",
       " ('republican', 61),\n",
       " ('security', 59),\n",
       " ('job', 57),\n",
       " ('year', 57),\n",
       " ('meeting', 56),\n",
       " ('senate', 55),\n",
       " ('help', 54),\n",
       " ('obama', 54),\n",
       " ('bill', 53),\n",
       " ('state', 53),\n",
       " ('china', 52),\n",
       " ('clinton', 49),\n",
       " ('world', 49),\n",
       " ('hillary', 48),\n",
       " ('deal', 46),\n",
       " ('market', 46),\n",
       " ('border', 45),\n",
       " ('massive', 44),\n",
       " ('white', 44)]"
      ]
     },
     "execution_count": 76,
     "metadata": {},
     "output_type": "execute_result"
    }
   ],
   "source": [
    "## Top 50 Contextual Words/ Hot Topics of 2017\n",
    "\n",
    "contextual_words_2017_ordered = contextual_words_2017.map(lambda word: (word, 1))\\\n",
    "                                                 .reduceByKey(lambda x,y : x+y)\\\n",
    "                                                 .sortBy(lambda tuple: tuple[1], ascending=False)\n",
    "\n",
    "contextual_words_2017_ordered.take(50) "
   ]
  },
  {
   "cell_type": "markdown",
   "metadata": {},
   "source": [
    "### 2018 - Hot Topics\n",
    "\n",
    "\n",
    "Donald Trump's 2018 tweets all basically about **international politics** and his **policies**. \n",
    "The hot topics can be categorized as 2 areas : \n",
    "\n",
    "1) U.S. Politics/ Current Affairs :\n",
    "- Politics :\n",
    "\t- president\n",
    "\t- republicans\n",
    "\t- democrats\n",
    "\t- dems\n",
    "\t- white - White House\n",
    "\t- house - White House\n",
    "\t- **governor**\n",
    "\t- obama\n",
    "\t- hillary\n",
    "\t- **witch** - 'witch hunt' - [description for investigations into **Russian interference** in the 2016 election](https://www.cnbc.com/2018/08/01/trumps-witch-hunt-tweets-are-getting-more-frequent-as-mueller-probe.html)\n",
    "\t- **hunt** - Same as above\n",
    "\t- **Election** :\n",
    "\t\t- election\n",
    "\t\t- vote\n",
    "\t\t- security - Donald Trump trys to strengthen the Security of the Elections\n",
    "\t\t- campaign - **Midterm elections 2018**\n",
    "\n",
    "\n",
    "- Policies :\n",
    "\t- jobs - [312,000 Jobs Created in December 2018](https://www.whitehouse.gov/articles/2018-ends-312000-jobs-created-december-strong-year-job-market/)\n",
    "\t- tax -  Trump tax reform plan in 2018 \n",
    "\t- law - President Donald Trump proclaims May 1, 2018, as Law Day\n",
    "\t- **fbi** - Trump wants to demolish and rebuild the FBI's headquarters\n",
    "\n",
    "\n",
    "\n",
    "2) **International Politics** :\n",
    "- north - North Korea, 2018 North Korea – United States Singapore **Summit** \n",
    "- korea- Same as above\n",
    "- meeting - Same as above\n",
    "- military - Trump Sending 5,200 Troops to the Border in an Election-Season Response to Migrants\n",
    "- **border** -  **Mexico border wall** in immigration crackdown\n",
    "- **borders** - Same as above\n",
    "- **wall** - Same as above\n",
    "- **immigration** - Donald Trump stops the immigration with the Wall\n",
    "- **china** -  Trump announces **tariffs** on $60bn in Chinese imports\n",
    "- **trade** - Trade war with China\n",
    "- russia - 2018 Russia–United States summit in Helsinki, Finland\n",
    "- deal - **Withdrawal** from the Joint Comprehensive Plan of Action/ **\"Iran nuclear deal\"**\n",
    "\n"
   ]
  },
  {
   "cell_type": "code",
   "execution_count": 77,
   "metadata": {},
   "outputs": [],
   "source": [
    "# Split the original tweets into a word list and filter the punctuation\n",
    "rdd_tweets_2018 = rdd_tweets.filter(lambda line : re.search('/2018',line))\\\n",
    "                    .flatMap(split_with_multiple_separator).filter(lambda word: word!='' and word!='”' and word!='.')\\\n",
    "                    .filter(lambda line: delhttps(line) != 1).flatMap(lambda word:word.lower().split())\n",
    "\n",
    "## Get the contextual words\n",
    "contextual_words_2018 = rdd_tweets_2018.subtract(rdd_positive_words).subtract(rdd_negative_words).subtract(rdd_stop_words)\\\n",
    "                    .subtract(references).subtract(hashtags.map(lambda word:word.lower()))\n",
    "\n"
   ]
  },
  {
   "cell_type": "code",
   "execution_count": 78,
   "metadata": {},
   "outputs": [
    {
     "data": {
      "text/plain": [
       "[('people', 458),\n",
       " ('president', 349),\n",
       " ('country', 320),\n",
       " ('democrats', 282),\n",
       " ('news', 268),\n",
       " ('border', 267),\n",
       " ('big', 265),\n",
       " ('u.s', 234),\n",
       " ('today', 203),\n",
       " ('new', 201),\n",
       " ('time', 199),\n",
       " ('trade', 197),\n",
       " ('vote', 197),\n",
       " ('america', 186),\n",
       " ('military', 181),\n",
       " ('american', 159),\n",
       " ('years', 158),\n",
       " ('job', 157),\n",
       " ('state', 154),\n",
       " ('united', 154),\n",
       " ('security', 151),\n",
       " ('fbi', 150),\n",
       " ('states', 147),\n",
       " ('house', 145),\n",
       " ('media', 139),\n",
       " ('witch', 138),\n",
       " ('wall', 135),\n",
       " ('hunt', 135),\n",
       " ('jobs', 132),\n",
       " ('election', 126),\n",
       " ('russia', 122),\n",
       " ('need', 121),\n",
       " ('deal', 117),\n",
       " ('obama', 116),\n",
       " ('north', 115),\n",
       " ('campaign', 112),\n",
       " ('world', 112),\n",
       " ('dems', 107),\n",
       " ('korea', 104),\n",
       " ('china', 102),\n",
       " ('borders', 101),\n",
       " ('immigration', 100),\n",
       " ('year', 99),\n",
       " ('tax', 97),\n",
       " ('law', 97),\n",
       " ('republicans', 95),\n",
       " ('governor', 94),\n",
       " ('meeting', 93),\n",
       " ('hillary', 92),\n",
       " ('white', 91)]"
      ]
     },
     "execution_count": 78,
     "metadata": {},
     "output_type": "execute_result"
    }
   ],
   "source": [
    "## Top 50 Contextual Words/ Hot Topics of 2018\n",
    "\n",
    "contextual_words_2018_ordered = contextual_words_2018.map(lambda word: (word, 1))\\\n",
    "                                                 .reduceByKey(lambda x,y : x+y)\\\n",
    "                                                 .sortBy(lambda tuple: tuple[1], ascending=False)\n",
    "\n",
    "contextual_words_2018_ordered.take(50) "
   ]
  },
  {
   "cell_type": "markdown",
   "metadata": {},
   "source": [
    "### 2019 - Hot Topics\n",
    "\n",
    "In 2019, the **impeachment of President Donald Trump** is the hottest topics which happened in December 2019. Other tweets are\n",
    "about **international politics** with **China** and **Mexico**. North Korea is no longer on the list as the crisis was solved. \n",
    "The hot topics can be categorized as 2 areas : \n",
    "\n",
    "1) U.S. Politics/ Current Affairs :\n",
    "- Politics :\n",
    "\t- president\n",
    "\t- republicans\n",
    "\t- republican\n",
    "\t- democrats\n",
    "\t- dems\n",
    "\t- party - Political party\n",
    "\t- white - White House\n",
    "\t- house - White House\n",
    "\t- **Impeachment** : \n",
    "\t\t- impeachment - The impeachment of Donald Trump was initiated on December 18, 2019\n",
    "\t\t- schiff - Adam Schiff, chief impeachment **investigator** against Donald Trump\n",
    "\t\t- congress -**116th Congress** (2019-2020) for impeaching Donald John Trump for high crimes and misdemeanors\n",
    "\t\t- mueller - The Mueller report, officially titled Report On **The Investigation Into Russian Interference In The 2016 Presidential Election\n",
    "\t\t- report - Same as above\n",
    "\t\t- vote - **House member** vote on the articles of **impeachment** against President Trump\n",
    "\t\t- senate - Senators **voted** on Trump’s impeachment\n",
    "\t\t- **witch** - 'witch hunt' - [description for investigations into **Russian interference** in the 2016 election](https://www.cnbc.com/2018/08/01/trumps-witch-hunt-tweets-are-getting-more-frequent-as-mueller-probe.html)\n",
    "\t\t- **hunt** - Same as above\n",
    "\t\t- election\n",
    "\t\t- nancy - **Nancy Pelosi**, speaker of the United States House of Representatives who announces Formal Impeachment Inquiry of Trump\n",
    "\t\t- pelosi - Same as above\n",
    "\t\t- **fbi** - F.B.I. opened inquiry into whether Trump was secretly working on behalf of Russia\n",
    "\t\t- russia - Investigations into Donald Trump and Russia\n",
    "\n",
    "- Policies :\n",
    "\t- jobs \n",
    "\t- healthcare\n",
    "\t- obamacare\t\n",
    "\n",
    "\n",
    "2) **International Politics** :\n",
    "- military\n",
    "- world\n",
    "- mexico - Donal Trump imposes **tariffs** on Mexico in **anti-immigration** measure\n",
    "- **border** -  **Mexico border wall** in immigration crackdown\n",
    "- **wall** - Trump planned to build 450–500 miles (720–800 km) of new Mexico border wall by the end of 2020\n",
    "- **china** - Trump renews Trade War as China talks end without a deal\n",
    "- deal - Trade deal with China\n",
    "- **trade** - Trade war with China\n"
   ]
  },
  {
   "cell_type": "code",
   "execution_count": 79,
   "metadata": {},
   "outputs": [],
   "source": [
    "# Split the original tweets into a word list and filter the punctuation\n",
    "rdd_tweets_2019 = rdd_tweets.filter(lambda line : re.search('/2019',line))\\\n",
    "                    .flatMap(split_with_multiple_separator).filter(lambda word: word!='' and word!='”' and word!='.')\\\n",
    "                    .filter(lambda line: delhttps(line) != 1).flatMap(lambda word:word.lower().split())\n",
    "\n",
    "## Get the contextual words\n",
    "contextual_words_2019 = rdd_tweets_2019.subtract(rdd_positive_words).subtract(rdd_negative_words).subtract(rdd_stop_words)\\\n",
    "                    .subtract(references).subtract(hashtags.map(lambda word:word.lower()))\n",
    "\n"
   ]
  },
  {
   "cell_type": "code",
   "execution_count": 80,
   "metadata": {},
   "outputs": [
    {
     "data": {
      "text/plain": [
       "[('president', 1045),\n",
       " ('democrats', 750),\n",
       " ('people', 609),\n",
       " ('new', 474),\n",
       " ('news', 440),\n",
       " ('country', 436),\n",
       " ('impeachment', 409),\n",
       " ('big', 390),\n",
       " ('border', 388),\n",
       " ('time', 339),\n",
       " ('years', 326),\n",
       " ('media', 318),\n",
       " ('today', 318),\n",
       " ('american', 316),\n",
       " ('united', 305),\n",
       " ('china', 296),\n",
       " ('house', 295),\n",
       " ('america', 272),\n",
       " ('states', 271),\n",
       " ('dems', 250),\n",
       " ('u.s', 250),\n",
       " ('schiff', 220),\n",
       " ('job', 217),\n",
       " ('deal', 217),\n",
       " ('republican', 215),\n",
       " ('history', 201),\n",
       " ('state', 196),\n",
       " ('democrat', 196),\n",
       " ('party', 195),\n",
       " ('mueller', 189),\n",
       " ('vote', 188),\n",
       " ('economy', 185),\n",
       " ('congress', 184),\n",
       " ('report', 183),\n",
       " ('wall', 177),\n",
       " ('republicans', 176),\n",
       " ('witch', 176),\n",
       " ('hunt', 172),\n",
       " ('pelosi', 170),\n",
       " ('jobs', 161),\n",
       " ('election', 160),\n",
       " ('world', 145),\n",
       " ('mexico', 145),\n",
       " ('trade', 143),\n",
       " ('year', 141),\n",
       " ('nancy', 141),\n",
       " ('usa', 137),\n",
       " ('military', 136),\n",
       " ('fbi', 133),\n",
       " ('senate', 130)]"
      ]
     },
     "execution_count": 80,
     "metadata": {},
     "output_type": "execute_result"
    }
   ],
   "source": [
    "## Top 50 Contextual Words/ Hot Topics of 2019\n",
    "\n",
    "contextual_words_2019_ordered = contextual_words_2019.map(lambda word: (word, 1))\\\n",
    "                                                 .reduceByKey(lambda x,y : x+y)\\\n",
    "                                                 .sortBy(lambda tuple: tuple[1], ascending=False)\n",
    "\n",
    "contextual_words_2019_ordered.take(50) "
   ]
  },
  {
   "cell_type": "markdown",
   "metadata": {},
   "source": [
    "### 2020 - Hot Topics\n",
    "\n",
    "2020 is the election year thus the hottest topic is **2020 Presidential Election**. The **impeachment of President Donald Trump** is the hottest topics which happened in December 2019. Other tweets are\n",
    "is no longer a focus as the impeachment is over. **international politics** also becomes less important in terms of Donald Trump tweets.\n",
    "The hot topics can be categorized as 2 areas : \n",
    "\n",
    "1) U.S. Politics/ Current Affairs :\n",
    "- Politics :\n",
    "\t- president\n",
    "\t- republicans\n",
    "\t- republican\n",
    "\t- democrats\n",
    "\t- dems\n",
    "\t- party - Political party\n",
    "\t- white - White House\n",
    "\t- house - White House\n",
    "\t- **COVID-19** :\n",
    "\t\t- coronavirus - Trump **tests positive** for the Coronavirus in October 2019\n",
    "\t\t- amendment- **Twenty-fifth Amendment**, the proposal specified the process by which a **president** could be declared **\"unable to discharge the powers and duties of his office\"**, thereby making the vice president an acting president, and how the president could regain the powers of his office.\n",
    "\t- **Impeachment** :\n",
    "\t\t - impeachment - Donald Trump's impeachment trial is **over**\n",
    "\t- **2020 Presidential Election**: \n",
    "\t\t- joe- Joe Biden, Democrat candidate of 2020 Presidential Election\n",
    "\t\t- biden - Same as above\n",
    "\t\t- sleepy- **\"Sleepy Joe\"**, the name of Joe Biden called by Donald Trump\n",
    "\t\t- vote \n",
    "\t\t- senate - Race for the Senate with the Presidential Election 2020\n",
    "\t\t- election\n",
    "\t\t- second - Second Presidential Debate between Donald Trump and Joe Biden\n",
    "\t\t- court - Trump's election fight includes over 50 lawsuits\n",
    "\t\t- law - Law Firms Representing Trump for the dispute of the Election\n",
    "\t\t- live - Live of his campaign\n",
    "\n",
    "- Policies :\n",
    "\t- jobs \n",
    "\t- federal - Trump issues executive order requiring **classical style** as default for **Federal Buildings**\n",
    "\t- order - [Donald Trump's Executive Orders in 2020](https://www.nbcnews.com/politics/white-house/here-s-full-list-donald-trump-s-executive-orders-n720796)\n",
    "\n",
    "2) **International Politics** :\n",
    "- military\n",
    "- world\n",
    "- **china** - **Cold War** between China and U.S.\n",
    "\n"
   ]
  },
  {
   "cell_type": "code",
   "execution_count": 81,
   "metadata": {},
   "outputs": [],
   "source": [
    "# Split the original tweets into a word list and filter the punctuation\n",
    "rdd_tweets_2020 = rdd_tweets.filter(lambda line : re.search('/2020',line))\\\n",
    "                    .flatMap(split_with_multiple_separator).filter(lambda word: word!='' and word!='”' and word!='.')\\\n",
    "                    .filter(lambda line: delhttps(line) != 1).flatMap(lambda word:word.lower().split())\n",
    "\n",
    "## Get the contextual words\n",
    "contextual_words_2020 = rdd_tweets_2020.subtract(rdd_positive_words).subtract(rdd_negative_words).subtract(rdd_stop_words)\\\n",
    "                    .subtract(references.map(lambda word:word.lower())).subtract(hashtags.map(lambda word:word.lower()))\n"
   ]
  },
  {
   "cell_type": "code",
   "execution_count": 82,
   "metadata": {},
   "outputs": [
    {
     "data": {
      "text/plain": [
       "[('president', 1005),\n",
       " ('people', 722),\n",
       " ('biden', 696),\n",
       " ('joe', 560),\n",
       " ('news', 537),\n",
       " ('new', 454),\n",
       " ('big', 435),\n",
       " ('democrats', 425),\n",
       " ('vote', 403),\n",
       " ('american', 392),\n",
       " ('america', 343),\n",
       " ('country', 340),\n",
       " ('election', 316),\n",
       " ('today', 306),\n",
       " ('state', 304),\n",
       " ('media', 286),\n",
       " ('states', 277),\n",
       " ('years', 269),\n",
       " ('house', 256),\n",
       " ('job', 255),\n",
       " ('time', 245),\n",
       " ('coronavirus', 238),\n",
       " ('complete', 230),\n",
       " ('china', 228),\n",
       " ('history', 209),\n",
       " ('military', 206),\n",
       " ('law', 205),\n",
       " ('democrat', 204),\n",
       " ('federal', 202),\n",
       " ('republican', 202),\n",
       " ('jobs', 199),\n",
       " ('senate', 199),\n",
       " ('national', 199),\n",
       " ('help', 185),\n",
       " ('sleepy', 174),\n",
       " ('u.s', 173),\n",
       " ('order', 173),\n",
       " ('united', 170),\n",
       " ('party', 169),\n",
       " ('live', 169),\n",
       " ('second', 168),\n",
       " ('amendment', 166),\n",
       " ('impeachment', 165),\n",
       " ('white', 158),\n",
       " ('court', 156),\n",
       " ('05/06/2020', 153),\n",
       " ('economy', 153),\n",
       " ('world', 153),\n",
       " ('obama', 151),\n",
       " ('need', 149)]"
      ]
     },
     "execution_count": 82,
     "metadata": {},
     "output_type": "execute_result"
    }
   ],
   "source": [
    "## Top 50 Contextual Words/ Hot Topics of 2020\n",
    "\n",
    "contextual_words_2020_ordered = contextual_words_2020.map(lambda word: (word, 1))\\\n",
    "                                                 .reduceByKey(lambda x,y : x+y)\\\n",
    "                                                 .sortBy(lambda tuple: tuple[1], ascending=False)\n",
    "\n",
    "contextual_words_2020_ordered.take(50) "
   ]
  },
  {
   "cell_type": "markdown",
   "metadata": {},
   "source": [
    "## Conclusion\n",
    "\n",
    "The focus of this analysis is to identify the characteristics of Donald Trump’s, the President of the United States of America, communication from 2009 to 2020. The conclusion are drawn from evaluating hashtags, references and hot topics by overall and partial analysis (original tweets, retweets, tweets in each year): \n",
    "\n",
    "Donald Trump has been tweeting more than **58000 tweets** over 12 years in which **80%** are his **original tweets**. On average, he tends to use **positive words** than negative words in both original tweets and retweets.  \n",
    "\n",
    "\n",
    "The hot topics over 12 years can be grouped into either politics or his personal life :\n",
    "1) Politics : \n",
    "- Former President Obama\n",
    "- Obamacare \n",
    "- **2016 Presidential Election**\n",
    "- **2020 Presidential Election**\n",
    "- **Impeachment** of President Donald Trump \n",
    "- Trade war between U.S and **China**\n",
    "- Relationship between U.S and **Mexico**\n",
    "- Relationship between U.S and **North Korea**\n",
    "- Relationship between U.S and **Russia**\n",
    "- international deals with **Middle East**\n",
    "\t\n",
    "\t\n",
    "2) His personal life : \n",
    "- celebrity apprentice (TV Shows)\n",
    "- Golf\n",
    "- Court case \n",
    "- His real estates, i.e. buildings and hotels\n",
    "\n",
    "From **2012 to 2015**, Donald Trump's tweets included **political, economic and entertaining** topics. In the next few years, especially after he took office as president, there were almost no personal life and economy topics but more about politics. \n",
    "Donald Trump used Twitter as a tool for reaching his **political goals** and refuting the accuses from his opponents.\n",
    "\n",
    "All in all, Donald Trump tweets are used for his **political career** after 2015."
   ]
  },
  {
   "cell_type": "code",
   "execution_count": null,
   "metadata": {},
   "outputs": [],
   "source": []
  }
 ],
 "metadata": {
  "kernelspec": {
   "display_name": "Python 3",
   "language": "python",
   "name": "python3"
  },
  "language_info": {
   "codemirror_mode": {
    "name": "ipython",
    "version": 3
   },
   "file_extension": ".py",
   "mimetype": "text/x-python",
   "name": "python",
   "nbconvert_exporter": "python",
   "pygments_lexer": "ipython3",
   "version": "3.8.6"
  }
 },
 "nbformat": 4,
 "nbformat_minor": 4
}
